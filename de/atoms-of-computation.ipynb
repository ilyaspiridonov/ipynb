{
  "cells": [
    {
      "cell_type": "markdown",
      "metadata": {
      },
      "source": [
        "# Die Atome der Berechnung"
      ]
    },
    {
      "cell_type": "markdown",
      "metadata": {
        "gloss": {
          "power": {
            "text": "See <a href='https://en.wikipedia.org/wiki/Exponentiation'>exponentiation</a>",
            "title": "Power"
          },
          "quantum-mechanics": {
            "text": "Quantum mechanics is a more accurate model of the universe than the one we usually use, you’ll learn more about it on the next page.",
            "title": "Quantum mechanics"
          },
          "string": {
            "text": "In computing, we call sequences of characters \"strings\".",
            "title": "String"
          }
        }
      },
      "source": [
        "## Einführung\n",
        "\n",
        "Das Programmieren eines Quantencomputers kann jetzt jeder bequem von zu Hause aus tun. Aber was erstellen? Was ist überhaupt ein Quantenprogramm? Was ist eigentlich ein Quantencomputer?\n",
        "\n",
        "Diese Fragen können durch Vergleiche mit herkömmlichen Digitalcomputern beantwortet werden. Leider verstehen die meisten Menschen auch nicht wirklich, wie traditionelle digitale Computer funktionieren. Auf dieser Seite betrachten wir die Grundprinzipien hinter diesen traditionellen Geräten. Um uns später den Übergang zum Quantencomputing zu erleichtern, werden wir dies mit den gleichen Tools tun, die wir auch für Quantencomputer verwenden werden.\n",
        "\n",
        "## Informationen in Bits aufteilen\n",
        "\n",
        "Das erste, was wir wissen müssen, ist die Idee von *Bits* . Diese sollen das einfachste Alphabet der Welt sein. Mit nur zwei Symbolen, 0 und 1, können wir jede Information darstellen.\n",
        "\n",
        "Ein Beispiel sind Zahlen. Sie sind wahrscheinlich daran gewöhnt, eine Zahl durch eine [Folge](gloss:string) der zehn Ziffern 0, 1, 2, 3, 4, 5, 6, 7, 8 und 9 darzustellen. In dieser Ziffernfolge stellt jede Ziffer dar, wie oft die Zahl ist enthält eine gewisse [Zehnerpotenz](gloss:power) . Wenn wir zum Beispiel 213 schreiben, meinen wir:\n",
        "\n",
        "$$ 200+10+3 $$\n",
        "\n",
        "oder in einer Weise ausgedrückt, die die Zehnerpotenzen betont\n",
        "\n",
        "$$ (2×10^2)+(1×10^1)+(3×10^0) $$\n",
        "\n",
        "Obwohl wir dieses System normalerweise basierend auf der Zahl 10 verwenden, können wir genauso einfach eines basierend auf jeder anderen Zahl verwenden. Das binäre Zahlensystem basiert beispielsweise auf der Zahl Zwei. Das bedeutet, die zwei Zeichen 0 und 1 zu verwenden, um Zahlen als Vielfache von Zweierpotenzen auszudrücken. Beispielsweise wird 213 zu 11010101, da:\n",
        "\n",
        "$$ \\begin{aligned} 213 = &amp; \\phantom{+}(1×2^7)+(1×2^6)+(0×2^5)\\ &amp; +(1×2^4)+( 0×2^3)+(1×2^2)\\ &amp; +(0×2^1)+(1×2^0) \\ \\end{aligned} $$\n",
        "\n",
        "Dabei drücken wir Zahlen als Vielfache von 2, 4, 8, 16, 32 usw. statt 10, 100, 1000 usw. aus.\n",
        "\n",
        "<!-- ::: q-block.binary -->\n",
        "\n",
        "### Versuch es\n",
        "\n",
        "```\n",
        "q-binary\n",
        "```\n",
        "\n",
        "<!-- ::: -->\n",
        "\n",
        " \n",
        "\n",
        "Diese Bitfolgen, die als binäre Zeichenfolgen bekannt sind, können verwendet werden, um mehr als nur Zahlen darzustellen. Beispielsweise gibt es eine Möglichkeit, beliebigen Text mit Bits darzustellen. Für jeden Buchstaben, jede Zahl oder jedes Satzzeichen, das Sie verwenden möchten, können Sie mithilfe [dieser Tabelle](https://www.ibm.com/docs/en/aix/7.2?topic=adapters-ascii-decimal-hexadecimal-octal-binary-conversion-table) eine entsprechende Zeichenfolge von höchstens acht Bits finden. Obwohl diese recht willkürlich sind, handelt es sich um einen allgemein anerkannten Standard. Tatsächlich wurde es verwendet, um diesen Artikel über das Internet an Sie zu übermitteln.\n",
        "\n",
        "So werden alle Informationen in herkömmlichen Computern dargestellt. Ob Zahlen, Buchstaben, Bilder oder Töne, alles liegt in Form von binären Strings vor.\n",
        "\n",
        "Quantencomputer basieren wie unsere Standard-Digitalcomputer auf derselben Grundidee. Der Hauptunterschied besteht darin, dass sie *Qubits verwenden,* eine Erweiterung des Bits zur [Quantenmechanik](gloss:quantum-mechanics) . Im Rest dieses Lehrbuchs werden wir untersuchen, was Qubits sind, was sie können und wie sie es tun. In diesem Abschnitt sprechen wir jedoch überhaupt nicht von Quanten. Wir verwenden Qubits also einfach so, als wären sie Bits.\n",
        "\n",
        "<!-- ::: q-block.exercise -->\n",
        "\n",
        "### Schnelles Quiz\n",
        "\n",
        "<!-- ::: q-quiz(goal=\"intro-aoc-1\") -->\n",
        "\n",
        "<!-- ::: .question -->\n",
        "\n",
        "Wenn Sie $n$ Bits haben, wie viele verschiedene Zahlen könnten Sie aufschreiben?\n",
        "\n",
        "<!-- ::: -->\n",
        "\n",
        "<!-- ::: .option -->\n",
        "\n",
        "1. $n$\n",
        "\n",
        "<!-- ::: -->\n",
        "\n",
        "<!-- ::: .option -->\n",
        "\n",
        "1. $n^2$\n",
        "\n",
        "<!-- ::: -->\n",
        "\n",
        "<!-- ::: .option(correct) -->\n",
        "\n",
        "1. $2^n$\n",
        "\n",
        "<!-- ::: -->\n",
        "\n",
        "<!-- ::: -->\n",
        "\n",
        "<!-- ::: -->"
      ]
    },
    {
      "cell_type": "markdown",
      "metadata": {
      },
      "source": [
        "## Schaltpläne\n",
        "\n",
        "Wir haben auf der letzten Seite gesehen, dass eine Berechnung einige Eingabedaten benötigt und Operationen darauf ausführt, um einige Ausgabedaten zu erzeugen. Bei den Quantencomputern, die wir in diesem Lehrbuch kennenlernen werden, liegen diese Daten immer in Form von Bits vor. Jetzt wissen wir, was Bits sind. Mal sehen, wie wir sie manipulieren können, um die Eingaben, die wir haben, in die Ausgaben umzuwandeln, die wir brauchen.\n",
        "\n",
        "Es ist oft nützlich, diesen Vorgang in einem Diagramm darzustellen, das als *Schaltplan bezeichnet* wird. Diese Diagramme haben Eingänge auf der linken Seite, Ausgänge auf der rechten Seite und Operationen, die durch obskure Symbole dazwischen dargestellt werden. Diese Operationen werden hauptsächlich aus historischen Gründen als „Tore“ bezeichnet. Hier ist ein Beispiel dafür, wie eine Schaltung für standardmäßige, bitbasierte Computer aussieht. Es wird nicht erwartet, dass Sie verstehen, was es tut. Es sollte Ihnen nur eine Vorstellung davon geben, wie diese Schaltungen aussehen.\n",
        "\n",
        "![Beispiel eines klassischen Schaltplans](images/aoc/logic_gates.png)\n",
        "\n",
        "Für Quantencomputer verwenden wir die gleiche Grundidee, haben aber unterschiedliche Konventionen für die Darstellung von Eingaben, Ausgaben und den für Operationen verwendeten Symbolen. Hier ist die „Quantenschaltung“, die den gleichen Prozess wie oben darstellt.\n",
        "\n",
        "![Beispiel eines Quantenschaltplans](images/aoc/quantum_circuit.png)\n",
        "\n",
        "Im Rest dieses Abschnitts erklären wir, wie man Quantenschaltkreise baut. Am Ende wissen Sie, wie Sie die obige Schaltung erstellen, was sie tut und warum sie nützlich ist."
      ]
    },
    {
      "cell_type": "markdown",
      "metadata": {
        "gloss": {
          "python": {
            "text": "Python is a programming language. We can use it to write instructions and algorithms for computers to follow. <a href='https://www.python.org/'>Read more</a>.",
            "title": "Python"
          }
        }
      },
      "source": [
        "## Schaltungen mit Qiskit erstellen\n",
        "\n",
        "Um eine Quantenschaltung zu erstellen, importieren wir die <code>QuantumCircuit</code> -Klasse und erstellen ein neues <code>QuantumCircuit</code> Objekt.\n",
        "\n",
        "<!-- ::: q-block.reminder -->\n",
        "\n",
        "### Erinnerung\n",
        "\n",
        "<summary>Python-Grundlagen (was hat es mit Klassen und Objekten auf sich?)</summary>\n",
        "\n",
        "Wir wissen, dass wir alle Informationen mit einer Menge Bits beschreiben können, und so speichern und verarbeiten Computer alles, einschließlich Quantenschaltungen! Aber es ist für uns Menschen schwierig, darüber nachzudenken, wie wir das machen und wie wir diese Bits manipulieren, um die Schaltkreise darzustellen, die wir wollen. Die <code>QuantumCircuit</code> -Klasse ist ein Satz von Anweisungen zur Darstellung von Quantenschaltkreisen als Bits. Die Zeile <code>qc = QuantumCircuit(4, 2)</code> in der Zelle darunter ist ein Konstruktor, der Python anweist, einige Bits in Ihrem Computer beiseite zu legen, die wir verwenden, um einen Quantenschaltkreis darzustellen. Wenn wir uns auf diesen Quantenschaltkreis beziehen wollen (oder vielmehr auf die Bits, die diesen Quantenschaltkreis darstellen), verwenden wir die Variable „ <code>qc</code> “. Wir sagen, ' <code>qc</code> ' bezieht sich auf ein \" <code>QuantumCircuit</code> Objekt\".\n",
        "\n",
        "<!-- vale off -->\n",
        "\n",
        "Das erlaubt uns Menschen, auf einer hohen, abstrakten Ebene über Quantenschaltkreise nachzudenken; wir können Dinge sagen wie „X-Gate hinzufügen“ und Qiskit kümmert sich darum, was wir mit den Bits in unserem Computer tun müssen, um diese Änderung widerzuspiegeln.\n",
        "\n",
        "\n",
        "\n",
        "\n",
        "<!-- ::: -->\n",
        "\n",
        "Beim Erstellen einer Quantenschaltung müssen wir [Python](gloss:python) mitteilen, wie viele Qubits unsere Schaltung haben soll, und wir können ihr optional auch mitteilen, wie viele klassische Bits unsere Schaltung haben soll. Wir brauchen klassische Bits, um die Messungen unserer Qubits zu speichern, der Grund dafür wird später in diesem Kurs deutlich.\n",
        "\n",
        "## Ihr erster Quantenschaltkreis\n",
        "\n",
        "In einer Schaltung müssen wir normalerweise drei Aufgaben erledigen: Zuerst die Eingabe codieren, dann einige tatsächliche Berechnungen durchführen und schließlich eine Ausgabe extrahieren. Für Ihre erste Quantenschaltung konzentrieren wir uns auf die letzte dieser Aufgaben. Wir beginnen mit der Erstellung einer Quantenschaltung mit 3 Qubits und 3 Ausgängen."
      ]
    },
    {
      "cell_type": "code",
      "execution_count": 1,
      "metadata": {
      },
      "outputs": [
        {
          "data": {
            "image/svg+xml": [
              "<?xml version=\"1.0\" encoding=\"UTF-8\"?><!DOCTYPE svg  PUBLIC '-//W3C//DTD SVG 1.1//EN'  'http://www.w3.org/Graphics/SVG/1.1/DTD/svg11.dtd'><svg width=\"104.26pt\" height=\"218.36pt\" version=\"1.1\" viewBox=\"0 0 104.26 218.36\" xmlns=\"http://www.w3.org/2000/svg\" xmlns:xlink=\"http://www.w3.org/1999/xlink\"><defs><style type=\"text/css\">*{stroke-linejoin: round; stroke-linecap: butt}</style></defs><path d=\"m0 218.36h104.26v-218.36h-104.26z\" fill=\"#ffffff\"/><path d=\"m64.609 44.283h27.812\" clip-path=\"url(#pb080f3487a)\" fill=\"none\" stroke=\"#000000\" stroke-linecap=\"square\" stroke-width=\"2\"/><path d=\"m64.609 90.637h27.812\" clip-path=\"url(#pb080f3487a)\" fill=\"none\" stroke=\"#000000\" stroke-linecap=\"square\" stroke-width=\"2\"/><path d=\"m64.609 136.99h27.812\" clip-path=\"url(#pb080f3487a)\" fill=\"none\" stroke=\"#000000\" stroke-linecap=\"square\" stroke-width=\"2\"/><path d=\"m64.609 181.84h27.812\" clip-path=\"url(#pb080f3487a)\" fill=\"none\" stroke=\"#778899\" stroke-linecap=\"square\" stroke-width=\"2\"/><path d=\"m64.609 184.85h27.812\" clip-path=\"url(#pb080f3487a)\" fill=\"none\" stroke=\"#778899\" stroke-linecap=\"square\" stroke-width=\"2\"/><path d=\"m73.88 187.98 4.6354-9.2708\" clip-path=\"url(#pb080f3487a)\" fill=\"none\" stroke=\"#778899\" stroke-linecap=\"square\"/><g clip-path=\"url(#pb080f3487a)\"><g transform=\"translate(37.301 48.734) scale(.1625 -.1625)\"><defs><path id=\"DejaVuSans-Oblique-71\" transform=\"scale(.015625)\" d=\"m2669 525q-231-303-546-460-314-156-695-156-531 0-833 358-301 358-301 986 0 506 186 978t533 847q225 244 517 375t614 131q387 0 637-153t363-462l100 525h578l-934-4813h-579l360 1844zm-1778 813q0-463 193-705 194-242 560-242 544 0 928 520t384 1264q0 450-199 689-198 239-569 239-272 0-504-127-231-126-403-370-181-256-286-600-104-343-104-668z\"/><path id=\"DejaVuSans-30\" transform=\"scale(.015625)\" d=\"m2034 4250q-487 0-733-480-245-479-245-1442 0-959 245-1439 246-480 733-480 491 0 736 480 246 480 246 1439 0 963-246 1442-245 480-736 480zm0 500q785 0 1199-621 414-620 414-1801 0-1178-414-1799-414-620-1199-620-784 0-1198 620-414 621-414 1799 0 1181 414 1801 414 621 1198 621z\"/></defs><use xlink:href=\"#DejaVuSans-Oblique-71\"/><use transform=\"translate(63.477 -16.406) scale(.7)\" xlink:href=\"#DejaVuSans-30\"/></g></g><g clip-path=\"url(#pb080f3487a)\"><g transform=\"translate(37.301 95.088) scale(.1625 -.1625)\"><defs><path id=\"DejaVuSans-31\" transform=\"scale(.015625)\" d=\"m794 531h1031v3560l-1122-225v575l1116 225h631v-4135h1031v-531h-2687v531z\"/></defs><use xlink:href=\"#DejaVuSans-Oblique-71\"/><use transform=\"translate(63.477 -16.406) scale(.7)\" xlink:href=\"#DejaVuSans-31\"/></g></g><g clip-path=\"url(#pb080f3487a)\"><g transform=\"translate(37.301 141.44) scale(.1625 -.1625)\"><defs><path id=\"DejaVuSans-32\" transform=\"scale(.015625)\" d=\"m1228 531h2203v-531h-2962v531q359 372 979 998 621 627 780 809 303 340 423 576 121 236 121 464 0 372-261 606-261 235-680 235-297 0-627-103-329-103-704-313v638q381 153 712 231 332 78 607 78 725 0 1156-363 431-362 431-968 0-288-108-546-107-257-392-607-78-91-497-524-418-433-1181-1211z\"/></defs><use xlink:href=\"#DejaVuSans-Oblique-71\"/><use transform=\"translate(63.477 -16.406) scale(.7)\" xlink:href=\"#DejaVuSans-32\"/></g></g><g clip-path=\"url(#pb080f3487a)\"><g transform=\"translate(69.245 176.55) scale(.104 -.104)\"><defs><path id=\"DejaVuSans-33\" transform=\"scale(.015625)\" d=\"m2597 2516q453-97 707-404 255-306 255-756 0-690-475-1069-475-378-1350-378-293 0-604 58t-642 174v609q262-153 574-231 313-78 654-78 593 0 904 234t311 681q0 413-289 645-289 233-804 233h-544v519h569q465 0 712 186t247 536q0 359-255 551-254 193-729 193-260 0-557-57-297-56-653-174v562q360 100 674 150t592 50q719 0 1137-327 419-326 419-882 0-388-222-655t-631-370z\"/></defs><use xlink:href=\"#DejaVuSans-33\"/></g></g><g clip-path=\"url(#pb080f3487a)\"><g transform=\"translate(46.403 187.83) scale(.1625 -.1625)\"><defs><path id=\"DejaVuSans-63\" transform=\"scale(.015625)\" d=\"m3122 3366v-538q-244 135-489 202t-495 67q-560 0-870-355-309-354-309-995t309-996q310-354 870-354 250 0 495 67t489 202v-532q-241-112-499-168-257-57-548-57-791 0-1257 497-465 497-465 1341 0 856 470 1346 471 491 1290 491 265 0 518-55 253-54 491-163z\"/></defs><use xlink:href=\"#DejaVuSans-63\"/></g></g><defs><clipPath id=\"pb080f3487a\"><rect x=\"7.2\" y=\"7.2\" width=\"89.857\" height=\"203.96\"/></clipPath></defs></svg>"
            ],
            "text/plain": [
              "<Figure size 162.08x367.889 with 1 Axes>"
            ]
          },
          "execution_count": 1,
          "metadata": {
          },
          "output_type": "execute_result"
        }
      ],
      "source": [
        "from qiskit import QuantumCircuit\n",
        "# Create quantum circuit with 3 qubits and 3 classical bits\n",
        "# (we'll explain why we need the classical bits later)\n",
        "qc = QuantumCircuit(3, 3)\n",
        "qc.draw()  # returns a drawing of the circuit"
      ]
    },
    {
      "cell_type": "markdown",
      "metadata": {
        "gloss": {
          "return": {
            "text": "Return is another word for 'output'. In Python, we can use returned data as input to another function or process.",
            "title": "Return"
          }
        }
      },
      "source": [
        "Schließlich erstellt uns die Methode <code>qc.draw()</code> eine Zeichnung der Schaltung. Jupyter Notebooks werten die letzte Zeile einer Codezelle aus und zeigen sie unterhalb der Zelle an. Da <code>qc.draw()</code> eine Zeichnung [zurückgibt](gloss:return) , sehen wir das unter dem Code. Es gibt noch keine Tore in unserer Schaltung, also sehen wir nur einige horizontale Linien.\n",
        "\n",
        "<!-- ::: q-block.reminder -->\n",
        "\n",
        "### Erinnerung\n",
        "\n",
        "\n",
        "<summary>Python-Grundlagen (was ist eine Methode?)</summary> Die <code>QuantumCircuit</code> -Klasse ist eine Reihe von Anweisungen zur Darstellung von Quantenschaltkreisen als Bits, aber wenn wir einen dieser Schaltkreise ändern möchten, müssen wir auch wissen, wie die Bits entsprechend geändert werden. In [Python](gloss:python) werden Objekte mit „Methoden“ geliefert, bei denen es sich um Anweisungen handelt, um etwas mit diesem Objekt zu tun. In der obigen Zelle betrachtet die Methode <code>.draw()</code> die von uns erstellte Schaltung und erzeugt eine für Menschen lesbare Zeichnung dieser Schaltung.\n",
        "\n",
        "\n",
        "\n",
        "\n",
        "<!-- ::: -->\n",
        "\n",
        "Als nächstes brauchen wir eine Möglichkeit, unseren Quantencomputer anzuweisen, unsere Qubits zu messen und die Ergebnisse aufzuzeichnen. Dazu fügen wir unserem Quantenschaltkreis eine „Mess“-Operation hinzu. Wir können dies mit der `QuantumCircuit` `.measure()` von QuantumCircuit tun."
      ]
    },
    {
      "cell_type": "code",
      "execution_count": 2,
      "metadata": {
      },
      "outputs": [
        {
          "data": {
            "image/svg+xml": [
              "<?xml version=\"1.0\" encoding=\"UTF-8\"?><!DOCTYPE svg  PUBLIC '-//W3C//DTD SVG 1.1//EN'  'http://www.w3.org/Graphics/SVG/1.1/DTD/svg11.dtd'><svg width=\"220.14pt\" height=\"218.36pt\" version=\"1.1\" viewBox=\"0 0 220.14 218.36\" xmlns=\"http://www.w3.org/2000/svg\" xmlns:xlink=\"http://www.w3.org/1999/xlink\"><defs><style type=\"text/css\">*{stroke-linejoin: round; stroke-linecap: butt}</style></defs><path d=\"m0 218.36h220.14v-218.36h-220.14z\" fill=\"#ffffff\"/><path d=\"m83.614 172.8h12.052l-6.026 8.6914z\" clip-path=\"url(#p3d37621352)\" fill=\"#778899\"/><path d=\"m129.97 172.8h12.052l-6.026 8.6914z\" clip-path=\"url(#p3d37621352)\" fill=\"#778899\"/><path d=\"m176.32 172.8h12.052l-6.026 8.6914z\" clip-path=\"url(#p3d37621352)\" fill=\"#778899\"/><path d=\"m64.609 44.283h143.7\" clip-path=\"url(#p3d37621352)\" fill=\"none\" stroke=\"#000000\" stroke-linecap=\"square\" stroke-width=\"2\"/><path d=\"m64.609 90.637h143.7\" clip-path=\"url(#p3d37621352)\" fill=\"none\" stroke=\"#000000\" stroke-linecap=\"square\" stroke-width=\"2\"/><path d=\"m64.609 136.99h143.7\" clip-path=\"url(#p3d37621352)\" fill=\"none\" stroke=\"#000000\" stroke-linecap=\"square\" stroke-width=\"2\"/><path d=\"m64.609 181.84h143.7\" clip-path=\"url(#p3d37621352)\" fill=\"none\" stroke=\"#778899\" stroke-linecap=\"square\" stroke-width=\"2\"/><path d=\"m64.609 184.85h143.7\" clip-path=\"url(#p3d37621352)\" fill=\"none\" stroke=\"#778899\" stroke-linecap=\"square\" stroke-width=\"2\"/><path d=\"m73.88 187.98 4.6354-9.2708\" clip-path=\"url(#p3d37621352)\" fill=\"none\" stroke=\"#778899\" stroke-linecap=\"square\"/><path d=\"m91.147 44.283v128.52\" clip-path=\"url(#p3d37621352)\" fill=\"none\" stroke=\"#778899\" stroke-linecap=\"square\" stroke-width=\"2\"/><path d=\"m88.134 44.283v128.52\" clip-path=\"url(#p3d37621352)\" fill=\"none\" stroke=\"#778899\" stroke-linecap=\"square\" stroke-width=\"2\"/><path d=\"m137.5 90.637v82.162\" clip-path=\"url(#p3d37621352)\" fill=\"none\" stroke=\"#778899\" stroke-linecap=\"square\" stroke-width=\"2\"/><path d=\"m134.49 90.637v82.162\" clip-path=\"url(#p3d37621352)\" fill=\"none\" stroke=\"#778899\" stroke-linecap=\"square\" stroke-width=\"2\"/><path d=\"m183.85 136.99v35.808\" clip-path=\"url(#p3d37621352)\" fill=\"none\" stroke=\"#778899\" stroke-linecap=\"square\" stroke-width=\"2\"/><path d=\"m180.84 136.99v35.808\" clip-path=\"url(#p3d37621352)\" fill=\"none\" stroke=\"#778899\" stroke-linecap=\"square\" stroke-width=\"2\"/><path d=\"m74.575 59.348h30.13v-30.13h-30.13z\" clip-path=\"url(#p3d37621352)\" fill=\"#121619\" stroke=\"#121619\" stroke-width=\"1.5\"/><path d=\"m100.19 48.803c0-2.7958-1.1118-5.4799-3.0887-7.4568s-4.661-3.0887-7.4568-3.0887-5.4799 1.1118-7.4568 3.0887-3.0887 4.661-3.0887 7.4568\" clip-path=\"url(#p3d37621352)\" fill=\"none\" stroke=\"#ffffff\" stroke-width=\"2\"/><path d=\"m89.64 48.803 10.546-10.546\" clip-path=\"url(#p3d37621352)\" fill=\"none\" stroke=\"#ffffff\" stroke-linecap=\"square\" stroke-width=\"2\"/><path d=\"m120.93 105.7h30.13v-30.13h-30.13z\" clip-path=\"url(#p3d37621352)\" fill=\"#121619\" stroke=\"#121619\" stroke-width=\"1.5\"/><path d=\"m146.54 95.157c0-2.7958-1.1118-5.4799-3.0887-7.4568s-4.661-3.0887-7.4568-3.0887c-2.7958 0-5.4799 1.1118-7.4568 3.0887s-3.0887 4.661-3.0887 7.4568\" clip-path=\"url(#p3d37621352)\" fill=\"none\" stroke=\"#ffffff\" stroke-width=\"2\"/><path d=\"m135.99 95.157 10.546-10.546\" clip-path=\"url(#p3d37621352)\" fill=\"none\" stroke=\"#ffffff\" stroke-linecap=\"square\" stroke-width=\"2\"/><path d=\"m167.28 152.06h30.13v-30.13h-30.13z\" clip-path=\"url(#p3d37621352)\" fill=\"#121619\" stroke=\"#121619\" stroke-width=\"1.5\"/><path d=\"m192.89 141.51c0-2.7958-1.1118-5.4799-3.0887-7.4568s-4.661-3.0887-7.4568-3.0887-5.4799 1.1118-7.4568 3.0887-3.0887 4.661-3.0887 7.4568\" clip-path=\"url(#p3d37621352)\" fill=\"none\" stroke=\"#ffffff\" stroke-width=\"2\"/><path d=\"m182.35 141.51 10.546-10.546\" clip-path=\"url(#p3d37621352)\" fill=\"none\" stroke=\"#ffffff\" stroke-linecap=\"square\" stroke-width=\"2\"/><g clip-path=\"url(#p3d37621352)\"><g transform=\"translate(37.301 48.734) scale(.1625 -.1625)\"><defs><path id=\"DejaVuSans-Oblique-71\" transform=\"scale(.015625)\" d=\"m2669 525q-231-303-546-460-314-156-695-156-531 0-833 358-301 358-301 986 0 506 186 978t533 847q225 244 517 375t614 131q387 0 637-153t363-462l100 525h578l-934-4813h-579l360 1844zm-1778 813q0-463 193-705 194-242 560-242 544 0 928 520t384 1264q0 450-199 689-198 239-569 239-272 0-504-127-231-126-403-370-181-256-286-600-104-343-104-668z\"/><path id=\"DejaVuSans-30\" transform=\"scale(.015625)\" d=\"m2034 4250q-487 0-733-480-245-479-245-1442 0-959 245-1439 246-480 733-480 491 0 736 480 246 480 246 1439 0 963-246 1442-245 480-736 480zm0 500q785 0 1199-621 414-620 414-1801 0-1178-414-1799-414-620-1199-620-784 0-1198 620-414 621-414 1799 0 1181 414 1801 414 621 1198 621z\"/></defs><use xlink:href=\"#DejaVuSans-Oblique-71\"/><use transform=\"translate(63.477 -16.406) scale(.7)\" xlink:href=\"#DejaVuSans-30\"/></g></g><g clip-path=\"url(#p3d37621352)\"><g transform=\"translate(37.301 95.088) scale(.1625 -.1625)\"><defs><path id=\"DejaVuSans-31\" transform=\"scale(.015625)\" d=\"m794 531h1031v3560l-1122-225v575l1116 225h631v-4135h1031v-531h-2687v531z\"/></defs><use xlink:href=\"#DejaVuSans-Oblique-71\"/><use transform=\"translate(63.477 -16.406) scale(.7)\" xlink:href=\"#DejaVuSans-31\"/></g></g><g clip-path=\"url(#p3d37621352)\"><g transform=\"translate(37.301 141.44) scale(.1625 -.1625)\"><defs><path id=\"DejaVuSans-32\" transform=\"scale(.015625)\" d=\"m1228 531h2203v-531h-2962v531q359 372 979 998 621 627 780 809 303 340 423 576 121 236 121 464 0 372-261 606-261 235-680 235-297 0-627-103-329-103-704-313v638q381 153 712 231 332 78 607 78 725 0 1156-363 431-362 431-968 0-288-108-546-107-257-392-607-78-91-497-524-418-433-1181-1211z\"/></defs><use xlink:href=\"#DejaVuSans-Oblique-71\"/><use transform=\"translate(63.477 -16.406) scale(.7)\" xlink:href=\"#DejaVuSans-32\"/></g></g><g clip-path=\"url(#p3d37621352)\"><g transform=\"translate(69.245 176.55) scale(.104 -.104)\"><defs><path id=\"DejaVuSans-33\" transform=\"scale(.015625)\" d=\"m2597 2516q453-97 707-404 255-306 255-756 0-690-475-1069-475-378-1350-378-293 0-604 58t-642 174v609q262-153 574-231 313-78 654-78 593 0 904 234t311 681q0 413-289 645-289 233-804 233h-544v519h569q465 0 712 186t247 536q0 359-255 551-254 193-729 193-260 0-557-57-297-56-653-174v562q360 100 674 150t592 50q719 0 1137-327 419-326 419-882 0-388-222-655t-631-370z\"/></defs><use xlink:href=\"#DejaVuSans-33\"/></g></g><g clip-path=\"url(#p3d37621352)\"><g transform=\"translate(46.403 187.83) scale(.1625 -.1625)\"><defs><path id=\"DejaVuSans-63\" transform=\"scale(.015625)\" d=\"m3122 3366v-538q-244 135-489 202t-495 67q-560 0-870-355-309-354-309-995t309-996q310-354 870-354 250 0 495 67t489 202v-532q-241-112-499-168-257-57-548-57-791 0-1257 497-465 497-465 1341 0 856 470 1346 471 491 1290 491 265 0 518-55 253-54 491-163z\"/></defs><use xlink:href=\"#DejaVuSans-63\"/></g></g><g clip-path=\"url(#p3d37621352)\"><g transform=\"translate(101.23 176.55) scale(.104 -.104)\"><use xlink:href=\"#DejaVuSans-30\"/></g></g><g clip-path=\"url(#p3d37621352)\"><g transform=\"translate(147.58 176.55) scale(.104 -.104)\"><use xlink:href=\"#DejaVuSans-31\"/></g></g><g clip-path=\"url(#p3d37621352)\"><g transform=\"translate(193.94 176.55) scale(.104 -.104)\"><use xlink:href=\"#DejaVuSans-32\"/></g></g><defs><clipPath id=\"p3d37621352\"><rect x=\"7.2\" y=\"7.2\" width=\"205.74\" height=\"203.96\"/></clipPath></defs></svg>"
            ],
            "text/plain": [
              "<Figure size 371.107x367.889 with 1 Axes>"
            ]
          },
          "execution_count": 2,
          "metadata": {
          },
          "output_type": "execute_result"
        }
      ],
      "source": [
        "from qiskit import QuantumCircuit\n",
        "qc = QuantumCircuit(3, 3)\n",
        "# measure qubits 0, 1 & 2 to classical bits 0, 1 & 2 respectively\n",
        "qc.measure([0,1,2], [0,1,2])\n",
        "qc.draw()"
      ]
    },
    {
      "cell_type": "markdown",
      "metadata": {
      },
      "source": [
        "Lassen Sie uns als Nächstes sehen, was die Ergebnisse des Ausführens dieser Schaltung wären. Dazu verwenden wir einen Quantensimulator, einen Standardcomputer, der berechnet, was ein idealer Quantencomputer tun würde.\n",
        "\n",
        "Es wird angenommen, dass die Simulation eines Quantencomputers für klassische Computer schwierig ist, da die besten Algorithmen, die wir haben, exponentiell mit der Anzahl der Qubits wachsen. Daher sind diese Simulationen nur für Schaltungen mit einer kleinen Anzahl von Qubits (bis zu ~30 Qubits) oder bestimmten Arten von Schaltungen möglich, für die wir einige Tricks anwenden können, um die Simulation zu beschleunigen. Dennoch sind Simulatoren sehr nützliche Werkzeuge für den Entwurf kleinerer Quantenschaltkreise.\n",
        "\n",
        "Lassen Sie uns den Simulator von Qiskit (namens Aer) importieren und ein neues Simulatorobjekt erstellen."
      ]
    },
    {
      "cell_type": "code",
      "execution_count": 3,
      "metadata": {
      },
      "outputs": [

      ],
      "source": [
        "from qiskit.providers.aer import AerSimulator\n",
        "sim = AerSimulator()  # make new simulator object"
      ]
    },
    {
      "cell_type": "markdown",
      "metadata": {
      },
      "source": [
        "Um die Simulation durchzuführen, können wir die Methode <code>.run()</code> des Simulators verwenden. Dies gibt einen \"Job\" zurück, der Informationen über das Experiment enthält, z. B. ob das Experiment läuft oder abgeschlossen ist, auf welchem Backend es ausgeführt wurde und (wichtig für uns) die Ergebnisse des Experiments.\n",
        "\n",
        "Um die Ergebnisse aus dem Job zu erhalten, verwenden wir die Ergebnismethode, und die beliebteste Art, die Ergebnisse anzuzeigen, ist ein Wörterbuch mit \"Zählungen\"."
      ]
    },
    {
      "cell_type": "code",
      "execution_count": 4,
      "metadata": {
      },
      "outputs": [
        {
          "data": {
            "text/plain": [
              "{'000': 1024}"
            ]
          },
          "execution_count": 4,
          "metadata": {
          },
          "output_type": "execute_result"
        }
      ],
      "source": [
        "job = sim.run(qc)      # run the experiment\n",
        "result = job.result()  # get the results\n",
        "result.get_counts()    # interpret the results as a \"counts\" dictionary"
      ]
    },
    {
      "cell_type": "markdown",
      "metadata": {
      },
      "source": [
        "Die Schlüssel im Zählwörterbuch sind Bit-Strings, und die Werte geben an, wie oft dieser Bit-String gemessen wurde. Die Ergebnisse von Quantencomputern können zufällig sein, daher ist es üblich, die Schaltung einige Male zu wiederholen. Dieser Zirkel wurde 1024 Mal wiederholt, was die Standardanzahl ist, um einen Zirkel in Qiskit zu wiederholen. Konventionsgemäß beginnen Qubits immer im Zustand `0` , und da wir vor der Messung nichts mit ihnen tun, sind die Ergebnisse immer `0` .\n",
        "\n",
        "### Kodierung einer Eingabe\n",
        "\n",
        "Sehen wir uns nun an, wie eine andere binäre Zeichenfolge als Eingabe codiert wird. Dazu benötigen wir ein sogenanntes NICHT-Gatter. Dies ist die grundlegendste Operation, die Sie in einem Computer ausführen können. Es dreht einfach den Bitwert um: 0 wird 1 und 1 wird 0. Für Qubits verwenden wir dafür ein Gatter, das als *X-Gatter* bekannt ist.\n",
        "\n",
        "Im Folgenden erstellen wir eine neue Schaltung, die der Aufgabe des Codierens gewidmet ist:"
      ]
    },
    {
      "cell_type": "code",
      "execution_count": 5,
      "metadata": {
      },
      "outputs": [
        {
          "data": {
            "image/svg+xml": [
              "<?xml version=\"1.0\" encoding=\"UTF-8\"?><!DOCTYPE svg  PUBLIC '-//W3C//DTD SVG 1.1//EN'  'http://www.w3.org/Graphics/SVG/1.1/DTD/svg11.dtd'><svg width=\"220.14pt\" height=\"218.36pt\" version=\"1.1\" viewBox=\"0 0 220.14 218.36\" xmlns=\"http://www.w3.org/2000/svg\" xmlns:xlink=\"http://www.w3.org/1999/xlink\"><defs><style type=\"text/css\">*{stroke-linejoin: round; stroke-linecap: butt}</style></defs><path d=\"m0 218.36h220.14v-218.36h-220.14z\" fill=\"#ffffff\"/><path d=\"m83.614 172.8h12.052l-6.026 8.6914z\" clip-path=\"url(#pe57f18160e)\" fill=\"#778899\"/><path d=\"m129.97 172.8h12.052l-6.026 8.6914z\" clip-path=\"url(#pe57f18160e)\" fill=\"#778899\"/><path d=\"m176.32 172.8h12.052l-6.026 8.6914z\" clip-path=\"url(#pe57f18160e)\" fill=\"#778899\"/><path d=\"m64.609 44.283h143.7\" clip-path=\"url(#pe57f18160e)\" fill=\"none\" stroke=\"#000000\" stroke-linecap=\"square\" stroke-width=\"2\"/><path d=\"m64.609 90.637h143.7\" clip-path=\"url(#pe57f18160e)\" fill=\"none\" stroke=\"#000000\" stroke-linecap=\"square\" stroke-width=\"2\"/><path d=\"m64.609 136.99h143.7\" clip-path=\"url(#pe57f18160e)\" fill=\"none\" stroke=\"#000000\" stroke-linecap=\"square\" stroke-width=\"2\"/><path d=\"m64.609 181.84h143.7\" clip-path=\"url(#pe57f18160e)\" fill=\"none\" stroke=\"#778899\" stroke-linecap=\"square\" stroke-width=\"2\"/><path d=\"m64.609 184.85h143.7\" clip-path=\"url(#pe57f18160e)\" fill=\"none\" stroke=\"#778899\" stroke-linecap=\"square\" stroke-width=\"2\"/><path d=\"m73.88 187.98 4.6354-9.2708\" clip-path=\"url(#pe57f18160e)\" fill=\"none\" stroke=\"#778899\" stroke-linecap=\"square\"/><path d=\"m91.147 136.99v35.808\" clip-path=\"url(#pe57f18160e)\" fill=\"none\" stroke=\"#778899\" stroke-linecap=\"square\" stroke-width=\"2\"/><path d=\"m88.134 136.99v35.808\" clip-path=\"url(#pe57f18160e)\" fill=\"none\" stroke=\"#778899\" stroke-linecap=\"square\" stroke-width=\"2\"/><path d=\"m137.5 44.283v128.52\" clip-path=\"url(#pe57f18160e)\" fill=\"none\" stroke=\"#778899\" stroke-linecap=\"square\" stroke-width=\"2\"/><path d=\"m134.49 44.283v128.52\" clip-path=\"url(#pe57f18160e)\" fill=\"none\" stroke=\"#778899\" stroke-linecap=\"square\" stroke-width=\"2\"/><path d=\"m183.85 90.637v82.162\" clip-path=\"url(#pe57f18160e)\" fill=\"none\" stroke=\"#778899\" stroke-linecap=\"square\" stroke-width=\"2\"/><path d=\"m180.84 90.637v82.162\" clip-path=\"url(#pe57f18160e)\" fill=\"none\" stroke=\"#778899\" stroke-linecap=\"square\" stroke-width=\"2\"/><path d=\"m74.575 59.348h30.13v-30.13h-30.13z\" clip-path=\"url(#pe57f18160e)\" fill=\"#005d5d\" stroke=\"#005d5d\" stroke-width=\"1.5\"/><path d=\"m74.575 105.7h30.13v-30.13h-30.13z\" clip-path=\"url(#pe57f18160e)\" fill=\"#005d5d\" stroke=\"#005d5d\" stroke-width=\"1.5\"/><path d=\"m74.575 152.06h30.13v-30.13h-30.13z\" clip-path=\"url(#pe57f18160e)\" fill=\"#121619\" stroke=\"#121619\" stroke-width=\"1.5\"/><path d=\"m100.19 141.51c0-2.7958-1.1118-5.4799-3.0887-7.4568s-4.661-3.0887-7.4568-3.0887-5.4799 1.1118-7.4568 3.0887-3.0887 4.661-3.0887 7.4568\" clip-path=\"url(#pe57f18160e)\" fill=\"none\" stroke=\"#ffffff\" stroke-width=\"2\"/><path d=\"m89.64 141.51 10.546-10.546\" clip-path=\"url(#pe57f18160e)\" fill=\"none\" stroke=\"#ffffff\" stroke-linecap=\"square\" stroke-width=\"2\"/><path d=\"m120.93 59.348h30.13v-30.13h-30.13z\" clip-path=\"url(#pe57f18160e)\" fill=\"#121619\" stroke=\"#121619\" stroke-width=\"1.5\"/><path d=\"m146.54 48.803c0-2.7958-1.1118-5.4799-3.0887-7.4568s-4.661-3.0887-7.4568-3.0887c-2.7958 0-5.4799 1.1118-7.4568 3.0887s-3.0887 4.661-3.0887 7.4568\" clip-path=\"url(#pe57f18160e)\" fill=\"none\" stroke=\"#ffffff\" stroke-width=\"2\"/><path d=\"m135.99 48.803 10.546-10.546\" clip-path=\"url(#pe57f18160e)\" fill=\"none\" stroke=\"#ffffff\" stroke-linecap=\"square\" stroke-width=\"2\"/><path d=\"m167.28 105.7h30.13v-30.13h-30.13z\" clip-path=\"url(#pe57f18160e)\" fill=\"#121619\" stroke=\"#121619\" stroke-width=\"1.5\"/><path d=\"m192.89 95.157c0-2.7958-1.1118-5.4799-3.0887-7.4568s-4.661-3.0887-7.4568-3.0887-5.4799 1.1118-7.4568 3.0887-3.0887 4.661-3.0887 7.4568\" clip-path=\"url(#pe57f18160e)\" fill=\"none\" stroke=\"#ffffff\" stroke-width=\"2\"/><path d=\"m182.35 95.157 10.546-10.546\" clip-path=\"url(#pe57f18160e)\" fill=\"none\" stroke=\"#ffffff\" stroke-linecap=\"square\" stroke-width=\"2\"/><g clip-path=\"url(#pe57f18160e)\"><g transform=\"translate(37.301 48.734) scale(.1625 -.1625)\"><defs><path id=\"DejaVuSans-Oblique-71\" transform=\"scale(.015625)\" d=\"m2669 525q-231-303-546-460-314-156-695-156-531 0-833 358-301 358-301 986 0 506 186 978t533 847q225 244 517 375t614 131q387 0 637-153t363-462l100 525h578l-934-4813h-579l360 1844zm-1778 813q0-463 193-705 194-242 560-242 544 0 928 520t384 1264q0 450-199 689-198 239-569 239-272 0-504-127-231-126-403-370-181-256-286-600-104-343-104-668z\"/><path id=\"DejaVuSans-30\" transform=\"scale(.015625)\" d=\"m2034 4250q-487 0-733-480-245-479-245-1442 0-959 245-1439 246-480 733-480 491 0 736 480 246 480 246 1439 0 963-246 1442-245 480-736 480zm0 500q785 0 1199-621 414-620 414-1801 0-1178-414-1799-414-620-1199-620-784 0-1198 620-414 621-414 1799 0 1181 414 1801 414 621 1198 621z\"/></defs><use xlink:href=\"#DejaVuSans-Oblique-71\"/><use transform=\"translate(63.477 -16.406) scale(.7)\" xlink:href=\"#DejaVuSans-30\"/></g></g><g clip-path=\"url(#pe57f18160e)\"><g transform=\"translate(37.301 95.088) scale(.1625 -.1625)\"><defs><path id=\"DejaVuSans-31\" transform=\"scale(.015625)\" d=\"m794 531h1031v3560l-1122-225v575l1116 225h631v-4135h1031v-531h-2687v531z\"/></defs><use xlink:href=\"#DejaVuSans-Oblique-71\"/><use transform=\"translate(63.477 -16.406) scale(.7)\" xlink:href=\"#DejaVuSans-31\"/></g></g><g clip-path=\"url(#pe57f18160e)\"><g transform=\"translate(37.301 141.44) scale(.1625 -.1625)\"><defs><path id=\"DejaVuSans-32\" transform=\"scale(.015625)\" d=\"m1228 531h2203v-531h-2962v531q359 372 979 998 621 627 780 809 303 340 423 576 121 236 121 464 0 372-261 606-261 235-680 235-297 0-627-103-329-103-704-313v638q381 153 712 231 332 78 607 78 725 0 1156-363 431-362 431-968 0-288-108-546-107-257-392-607-78-91-497-524-418-433-1181-1211z\"/></defs><use xlink:href=\"#DejaVuSans-Oblique-71\"/><use transform=\"translate(63.477 -16.406) scale(.7)\" xlink:href=\"#DejaVuSans-32\"/></g></g><g clip-path=\"url(#pe57f18160e)\"><g transform=\"translate(69.245 176.55) scale(.104 -.104)\"><defs><path id=\"DejaVuSans-33\" transform=\"scale(.015625)\" d=\"m2597 2516q453-97 707-404 255-306 255-756 0-690-475-1069-475-378-1350-378-293 0-604 58t-642 174v609q262-153 574-231 313-78 654-78 593 0 904 234t311 681q0 413-289 645-289 233-804 233h-544v519h569q465 0 712 186t247 536q0 359-255 551-254 193-729 193-260 0-557-57-297-56-653-174v562q360 100 674 150t592 50q719 0 1137-327 419-326 419-882 0-388-222-655t-631-370z\"/></defs><use xlink:href=\"#DejaVuSans-33\"/></g></g><g clip-path=\"url(#pe57f18160e)\"><g transform=\"translate(46.403 187.83) scale(.1625 -.1625)\"><defs><path id=\"DejaVuSans-63\" transform=\"scale(.015625)\" d=\"m3122 3366v-538q-244 135-489 202t-495 67q-560 0-870-355-309-354-309-995t309-996q310-354 870-354 250 0 495 67t489 202v-532q-241-112-499-168-257-57-548-57-791 0-1257 497-465 497-465 1341 0 856 470 1346 471 491 1290 491 265 0 518-55 253-54 491-163z\"/></defs><use xlink:href=\"#DejaVuSans-63\"/></g></g><g clip-path=\"url(#pe57f18160e)\"><g transform=\"translate(85.188 47.87) scale(.13 -.13)\" fill=\"#ffffff\"><defs><path id=\"DejaVuSans-58\" transform=\"scale(.015625)\" d=\"m403 4666h678l1160-1735 1165 1735h678l-1500-2241 1600-2425h-678l-1312 1984-1322-1984h-681l1665 2491-1453 2175z\"/></defs><use xlink:href=\"#DejaVuSans-58\"/></g></g><g clip-path=\"url(#pe57f18160e)\"><g transform=\"translate(85.188 94.224) scale(.13 -.13)\" fill=\"#ffffff\"><use xlink:href=\"#DejaVuSans-58\"/></g></g><g clip-path=\"url(#pe57f18160e)\"><g transform=\"translate(101.23 176.55) scale(.104 -.104)\"><use xlink:href=\"#DejaVuSans-32\"/></g></g><g clip-path=\"url(#pe57f18160e)\"><g transform=\"translate(147.58 176.55) scale(.104 -.104)\"><use xlink:href=\"#DejaVuSans-30\"/></g></g><g clip-path=\"url(#pe57f18160e)\"><g transform=\"translate(193.94 176.55) scale(.104 -.104)\"><use xlink:href=\"#DejaVuSans-31\"/></g></g><defs><clipPath id=\"pe57f18160e\"><rect x=\"7.2\" y=\"7.2\" width=\"205.74\" height=\"203.96\"/></clipPath></defs></svg>"
            ],
            "text/plain": [
              "<Figure size 371.107x367.889 with 1 Axes>"
            ]
          },
          "execution_count": 5,
          "metadata": {
          },
          "output_type": "execute_result"
        }
      ],
      "source": [
        "# Create quantum circuit with 3 qubits and 3 classical bits:\n",
        "qc = QuantumCircuit(3, 3)\n",
        "qc.x([0,1])  # Perform X-gates on qubits 0 & 1\n",
        "qc.measure([0,1,2], [0,1,2])\n",
        "qc.draw()    # returns a drawing of the circuit"
      ]
    },
    {
      "cell_type": "markdown",
      "metadata": {
      },
      "source": [
        "Und lassen Sie uns unsere Schaltung simulieren, um die Ergebnisse zu sehen:"
      ]
    },
    {
      "cell_type": "code",
      "execution_count": 6,
      "metadata": {
      },
      "outputs": [
        {
          "data": {
            "text/plain": [
              "{'011': 1024}"
            ]
          },
          "execution_count": 6,
          "metadata": {
          },
          "output_type": "execute_result"
        }
      ],
      "source": [
        "job = sim.run(qc)      # run the experiment\n",
        "result = job.result()  # get the results\n",
        "result.get_counts()    # interpret the results as a \"counts\" dictionary"
      ]
    },
    {
      "cell_type": "markdown",
      "metadata": {
      },
      "source": [
        "<!-- ::: q-block.exercise -->\n",
        "\n",
        "### Schnelles Quiz\n",
        "\n",
        "<!-- ::: q-quiz(goal=\"intro-aoc-2\") -->\n",
        "\n",
        "<!-- ::: .question -->\n",
        "\n",
        "Was ist die Binärzahl `011` in Dezimalzahl?\n",
        "\n",
        "<!-- ::: -->\n",
        "\n",
        "<!-- ::: .option -->\n",
        "\n",
        "1. 5\n",
        "\n",
        "<!-- ::: -->\n",
        "\n",
        "<!-- ::: .option -->\n",
        "\n",
        "1. 2\n",
        "\n",
        "<!-- ::: -->\n",
        "\n",
        "<!-- ::: .option(correct) -->\n",
        "\n",
        "1. 3\n",
        "\n",
        "<!-- ::: -->\n",
        "\n",
        "<!-- ::: -->\n",
        "\n",
        "Ändern Sie den obigen Code, um einen Quantenschaltkreis zu erstellen, der die Zahlen 6 und 4 codiert. Entsprechen die Ergebnisse Ihren Erwartungen?\n",
        "\n",
        "<!-- ::: -->\n",
        "\n",
        "Jetzt wissen wir, wie man Informationen in einem Computer verschlüsselt. Der nächste Schritt ist die Verarbeitung: Eine Eingabe, die wir codiert haben, in eine Ausgabe umzuwandeln, die uns etwas Neues sagt.\n",
        "\n",
        "## Erstellen einer Addiererschaltung\n",
        "\n",
        "### Denken Sie daran, wie man hinzufügt\n",
        "\n",
        "Um Inputs in Outputs umzuwandeln, müssen wir ein Problem lösen. Lassen Sie uns einige grundlegende Mathematik tun. In der Grundschule haben Sie gelernt, große mathematische Probleme in überschaubare Stücke zu zerlegen. Wie würden Sie zum Beispiel vorgehen, um diese Additionsaufgabe zu lösen?\n",
        "\n",
        "<!-- ::: q-block -->\n",
        "\n",
        "### Merken, wie man hinzufügt\n",
        "\n",
        "<!-- ::: q-carousel -->\n",
        "\n",
        "<!-- ::: div -->\n",
        "\n",
        "![Bild der Zugabe](images/aoc/carousel/0/0.svg)\n",
        "\n",
        "Wie können wir ein solches Problem lösen? Klicken Sie sich durch dieses Karussell, um es herauszufinden.\n",
        "\n",
        "<!-- ::: -->\n",
        "\n",
        "<!-- ::: div -->\n",
        "\n",
        "![Bild der Zugabe](images/aoc/carousel/0/1.svg)\n",
        "\n",
        "Eine Möglichkeit ist, es Ziffer für Ziffer von rechts nach links zu tun. Also fangen wir mit 3+4 an.\n",
        "\n",
        "<!-- ::: -->\n",
        "\n",
        "<!-- ::: div -->\n",
        "\n",
        "![Bild der Zugabe](images/aoc/carousel/0/2.svg)\n",
        "\n",
        "Und dann 1+5.\n",
        "\n",
        "<!-- ::: -->\n",
        "\n",
        "<!-- ::: div -->\n",
        "\n",
        "![Bild der Zugabe](images/aoc/carousel/0/3.svg)\n",
        "\n",
        "Dann 2+8.\n",
        "\n",
        "<!-- ::: -->\n",
        "\n",
        "<!-- ::: div -->\n",
        "\n",
        "![Bild der Zugabe](images/aoc/carousel/0/4.svg)\n",
        "\n",
        "Endlich haben wir 9+1+1 und bekommen unsere Antwort.\n",
        "\n",
        "<!-- ::: -->\n",
        "\n",
        "<!-- ::: -->\n",
        "\n",
        "<!-- ::: -->\n",
        "\n",
        "Dies mag nur eine einfache Addition sein, aber es demonstriert die Prinzipien hinter allen Algorithmen. Ob der Algorithmus darauf ausgelegt ist, mathematische Probleme zu lösen oder Text oder Bilder zu verarbeiten, wir zerlegen große Aufgaben immer in kleine und einfache Schritte.\n",
        "\n",
        "Um auf einem Computer zu laufen, müssen Algorithmen auf die kleinsten und einfachsten Schritte herunterkompiliert werden. Um zu sehen, wie diese aussehen, machen wir das obige Additionsproblem noch einmal, aber in Binärform.\n",
        "\n",
        "<!-- ::: q-block -->\n",
        "\n",
        "### Binärzahlen addieren\n",
        "\n",
        "<!-- ::: q-carousel -->\n",
        "\n",
        "<!-- ::: div -->\n",
        "\n",
        "![Bild der Zugabe](images/aoc/carousel/1/0.svg)\n",
        "\n",
        "Beachten Sie, dass die zweite Zahl auf der linken Seite ein paar zusätzliche Nullen hat. Dies dient nur dazu, die beiden Saiten gleich lang zu machen.\n",
        "\n",
        "<!-- ::: -->\n",
        "\n",
        "<!-- ::: div -->\n",
        "\n",
        "![Bild der Zugabe](images/aoc/carousel/1/1.svg)\n",
        "\n",
        "Unsere erste Aufgabe besteht darin, die 1+0 für die rechte Spalte zu machen. Im Binärsystem ist die Antwort wie in jedem Zahlensystem 1.\n",
        "\n",
        "<!-- ::: -->\n",
        "\n",
        "<!-- ::: div -->\n",
        "\n",
        "![Bild der Zugabe](images/aoc/carousel/1/2.svg)\n",
        "\n",
        "Dasselbe Ergebnis erhalten wir für die 0+1 der zweiten Spalte.\n",
        "\n",
        "<!-- ::: -->\n",
        "\n",
        "<!-- ::: div -->\n",
        "\n",
        "![Bild der Zugabe](images/aoc/carousel/1/3.svg)\n",
        "\n",
        "Als nächstes haben wir 1+1. Wie Sie sicher wissen, ist 1+1=2. Binär wird die Zahl 2 als 10 geschrieben und erfordert daher zwei Bits. Das bedeutet, dass wir die 1 übertragen müssen, genauso wie wir es für die Zahl 10 in Dezimalzahlen tun würden. In der nächsten Spalte müssen wir nun 1+1+1 berechnen. Das bedeutet, drei Zahlen zusammenzuzählen, also wird es für unseren Computer kompliziert.\n",
        "\n",
        "<!-- ::: -->\n",
        "\n",
        "<!-- ::: div -->\n",
        "\n",
        "![Bild der Zugabe](images/aoc/carousel/1/4.svg)\n",
        "\n",
        "Aber wir können es immer noch auf einfachere Operationen herunterkompilieren, und zwar auf eine Weise, bei der wir immer nur zwei Bits addieren müssen. Dazu können wir nur mit den ersten beiden 1en beginnen.\n",
        "\n",
        "<!-- ::: -->\n",
        "\n",
        "<!-- ::: div -->\n",
        "\n",
        "![Bild der Zugabe](images/aoc/carousel/1/5.svg)\n",
        "\n",
        "Jetzt müssen wir diese 10 zur letzten 1 hinzufügen, was mit unserer üblichen Methode zum Durchgehen der Spalten erfolgen kann. Die endgültige Antwort ist 11 (auch bekannt als 3).\n",
        "\n",
        "<!-- ::: -->\n",
        "\n",
        "<!-- ::: div -->\n",
        "\n",
        "![Bild der Zugabe](images/aoc/carousel/1/6.svg)\n",
        "\n",
        "Jetzt können wir uns dem Rest des Problems zuwenden. Mit der Antwort 11 haben wir ein weiteres Carry-Bit. Jetzt haben wir also ein weiteres 1+1+1 vor uns. Aber wir wissen bereits, wie das geht, also ist es keine große Sache.\n",
        "\n",
        "<!-- ::: -->\n",
        "\n",
        "<!-- ::: div -->\n",
        "\n",
        "Tatsächlich ist alles, was bisher übrig geblieben ist, etwas, von dem wir bereits wissen, wie es geht. Das liegt daran, dass, wenn Sie alles in nur zwei Bits aufteilen, es nur vier mögliche Dinge gibt, die Sie jemals berechnen müssen. Hier sind die vier Grundsummen (wir schreiben alle Antworten mit zwei Bits, um konsistent zu sein):\n",
        "\n",
        "![Bild der Zugabe](images/aoc/carousel/1/7.svg)\n",
        "\n",
        "Dies wird als Halbaddierer bezeichnet. Wenn unser Computer dies implementieren und viele davon verketten kann, kann er alles hinzufügen.\n",
        "\n",
        "<!-- ::: -->\n",
        "\n",
        "<!-- ::: -->\n",
        "\n",
        "<!-- ::: -->\n",
        "\n",
        "### Hinzufügen mit Quantenschaltkreisen\n",
        "\n",
        "Lassen Sie uns unseren eigenen Halbaddierer aus einer Quantenschaltung bauen. Dies umfasst einen Teil der Schaltung, der die Eingabe codiert, einen Teil, der den Algorithmus ausführt, und einen Teil, der das Ergebnis extrahiert. Der erste Teil muss geändert werden, wenn wir eine neue Eingabe verwenden möchten, aber der Rest bleibt immer gleich.\n",
        "\n",
        "![Überblick über unsere Addiererschaltung](images/aoc/half-adder.svg)\n",
        "\n",
        "Die beiden Bits, die wir hinzufügen möchten, sind in den Qubits 0 und 1 codiert. Das obige Beispiel codiert eine 1 in diesen beiden Qubits und versucht daher, die Lösung von 1+1 zu finden. Das Ergebnis wird eine Folge von zwei Bits sein, die wir aus den Qubits 2 und 3 auslesen. Es bleibt nur noch, das eigentliche Programm auszufüllen, das in der Leerstelle in der Mitte lebt.\n",
        "\n",
        "Die gestrichelten Linien im Bild dienen nur zur Unterscheidung der verschiedenen Teile der Schaltung (obwohl sie auch interessantere Verwendungszwecke haben können).\n",
        "\n",
        "Die Grundoperationen des Rechnens sind als Logikgatter bekannt. Wir haben bereits das NICHT-Gatter verwendet, aber das reicht nicht aus, um unseren Halbaddierer zu machen. Wir konnten es nur verwenden, um die Antworten manuell aufzuschreiben. Da wir möchten, dass der Computer die eigentliche Berechnung für uns erledigt, benötigen wir einige leistungsfähigere Gates.\n",
        "\n",
        "Um zu sehen, was wir brauchen, schauen wir uns noch einmal an, was unser Halbaddierer tun muss.\n",
        "\n",
        "![erforderliche Operationen eines Halbaddierers](images/aoc/half_adder_reqs.svg)\n",
        "\n",
        "Das Bit ganz rechts in allen vier Antworten wird vollständig davon bestimmt, ob die beiden Bits, die wir hinzufügen, gleich oder unterschiedlich sind. Für 0+0 und 1+1, wo die beiden Bits gleich sind, ergibt das Bit ganz rechts der Antwort 0. Für 0+1 und 1+0, wo wir unterschiedliche Bitwerte addieren, ist das Bit ganz rechts 1.\n",
        "\n",
        "Um diesen Teil unserer Lösung richtig zu machen, brauchen wir etwas, das herausfinden kann, ob zwei Bits unterschiedlich sind oder nicht. Traditionell wird dies beim Studium digitaler Berechnungen als XOR-Gatter bezeichnet.\n",
        "\n",
        "<table>\n",
        "<thead>\n",
        "  <tr>\n",
        "    <th>Eingang 1</th>\n",
        "    <th>Eingang 2</th>\n",
        "    <th>XOR-Ausgabe</th>\n",
        "  </tr>\n",
        "</thead>\n",
        "<tbody>\n",
        "  <tr>\n",
        "    <td>0</td>\n",
        "    <td>0</td>\n",
        "    <td>0</td>\n",
        "  </tr>\n",
        "  <tr>\n",
        "    <td>0</td>\n",
        "    <td>1</td>\n",
        "    <td>1</td>\n",
        "  </tr>\n",
        "  <tr>\n",
        "    <td>1</td>\n",
        "    <td>0</td>\n",
        "    <td>1</td>\n",
        "  </tr>\n",
        "  <tr>\n",
        "    <td>1</td>\n",
        "    <td>1</td>\n",
        "    <td>0</td>\n",
        "  </tr>\n",
        "</tbody>\n",
        "</table>\n",
        "\n",
        "In Quantencomputern wird die Arbeit des XOR-Gatters vom „kontrollierten NICHT-Gatter“ erledigt. Da das ein ziemlich langer Name ist, nennen wir ihn normalerweise einfach „CNOT“. In Schaltplänen wird es wie im Bild unten gezeichnet. Dies wird auf ein Paar Qubits angewendet. Eines fungiert als Kontroll-Qubit (das ist das mit dem kleinen Punkt). Das andere fungiert als Ziel-Qubit (mit dem großen Kreis und dem Kreuz – so etwas wie eine Zielmarke).\n",
        "\n",
        "![Bild des CNOT-Gatters](images/aoc/cnot_xor.svg)\n",
        "\n",
        "In Qiskit können wir die `.cx()` Methode verwenden, um unserer Schaltung ein CNOT hinzuzufügen. Wir müssen die Indizes der beiden Qubits, auf die es wirkt, als Argumente angeben. Hier ist ein Beispiel:"
      ]
    },
    {
      "cell_type": "code",
      "execution_count": 7,
      "metadata": {
      },
      "outputs": [
        {
          "data": {
            "image/svg+xml": [
              "<?xml version=\"1.0\" encoding=\"UTF-8\"?><!DOCTYPE svg  PUBLIC '-//W3C//DTD SVG 1.1//EN'  'http://www.w3.org/Graphics/SVG/1.1/DTD/svg11.dtd'><svg width=\"266.38pt\" height=\"172pt\" version=\"1.1\" viewBox=\"0 0 266.38 172\" xmlns=\"http://www.w3.org/2000/svg\" xmlns:xlink=\"http://www.w3.org/1999/xlink\"><defs><style type=\"text/css\">*{stroke-linejoin: round; stroke-linecap: butt}</style></defs><path d=\"m0 172h266.38v-172h-266.38z\" fill=\"#ffffff\"/><path d=\"m176.21 126.45h12.052l-6.026 8.6914z\" clip-path=\"url(#pbb45baefd6)\" fill=\"#778899\"/><path d=\"m222.56 126.45h12.052l-6.026 8.6914z\" clip-path=\"url(#pbb45baefd6)\" fill=\"#778899\"/><path d=\"m64.497 44.283h190.05\" clip-path=\"url(#pbb45baefd6)\" fill=\"none\" stroke=\"#000000\" stroke-linecap=\"square\" stroke-width=\"2\"/><path d=\"m64.497 90.637h190.05\" clip-path=\"url(#pbb45baefd6)\" fill=\"none\" stroke=\"#000000\" stroke-linecap=\"square\" stroke-width=\"2\"/><path d=\"m64.497 135.48h190.05\" clip-path=\"url(#pbb45baefd6)\" fill=\"none\" stroke=\"#778899\" stroke-linecap=\"square\" stroke-width=\"2\"/><path d=\"m64.497 138.5h190.05\" clip-path=\"url(#pbb45baefd6)\" fill=\"none\" stroke=\"#778899\" stroke-linecap=\"square\" stroke-width=\"2\"/><path d=\"m73.768 141.63 4.6354-9.2708\" clip-path=\"url(#pbb45baefd6)\" fill=\"none\" stroke=\"#778899\" stroke-linecap=\"square\"/><path d=\"m135.88 90.637v-46.354\" clip-path=\"url(#pbb45baefd6)\" fill=\"none\" stroke=\"#1192e8\" stroke-linecap=\"square\" stroke-width=\"2\"/><path d=\"m183.74 44.283v82.162\" clip-path=\"url(#pbb45baefd6)\" fill=\"none\" stroke=\"#778899\" stroke-linecap=\"square\" stroke-width=\"2\"/><path d=\"m180.73 44.283v82.162\" clip-path=\"url(#pbb45baefd6)\" fill=\"none\" stroke=\"#778899\" stroke-linecap=\"square\" stroke-width=\"2\"/><path d=\"m230.1 90.637v35.808\" clip-path=\"url(#pbb45baefd6)\" fill=\"none\" stroke=\"#778899\" stroke-linecap=\"square\" stroke-width=\"2\"/><path d=\"m227.08 90.637v35.808\" clip-path=\"url(#pbb45baefd6)\" fill=\"none\" stroke=\"#778899\" stroke-linecap=\"square\" stroke-width=\"2\"/><path d=\"m74.463 59.348h30.13v-30.13h-30.13z\" clip-path=\"url(#pbb45baefd6)\" fill=\"#005d5d\" stroke=\"#005d5d\" stroke-width=\"1.5\"/><path d=\"m135.88 48.803c1.1986 0 2.3482-0.4762 3.1958-1.3237 0.84753-0.84753 1.3237-1.9972 1.3237-3.1958 0-1.1986-0.4762-2.3482-1.3237-3.1958-0.84753-0.84753-1.9972-1.3237-3.1958-1.3237-1.1986 0-2.3482 0.4762-3.1958 1.3237s-1.3237 1.9972-1.3237 3.1958c0 1.1986 0.4762 2.3482 1.3237 3.1958s1.9972 1.3237 3.1958 1.3237z\" clip-path=\"url(#pbb45baefd6)\" fill=\"#1192e8\" stroke=\"#1192e8\" stroke-width=\"1.5\"/><path d=\"m135.88 101.18c2.7967 0 5.4792-1.1111 7.4568-3.0887 1.9776-1.9776 3.0887-4.6601 3.0887-7.4568 0-2.7967-1.1111-5.4792-3.0887-7.4568-1.9776-1.9776-4.6601-3.0887-7.4568-3.0887-2.7967 0-5.4792 1.1111-7.4568 3.0887-1.9776 1.9776-3.0887 4.6601-3.0887 7.4568 0 2.7967 1.1111 5.4792 3.0887 7.4568 1.9776 1.9776 4.6601 3.0887 7.4568 3.0887z\" clip-path=\"url(#pbb45baefd6)\" fill=\"#1192e8\" stroke=\"#1192e8\" stroke-width=\"2\"/><path d=\"m167.17 59.348h30.13v-30.13h-30.13z\" clip-path=\"url(#pbb45baefd6)\" fill=\"#121619\" stroke=\"#121619\" stroke-width=\"1.5\"/><path d=\"m192.78 48.803c0-2.7958-1.1118-5.4799-3.0887-7.4568s-4.661-3.0887-7.4568-3.0887-5.4799 1.1118-7.4568 3.0887-3.0887 4.661-3.0887 7.4568\" clip-path=\"url(#pbb45baefd6)\" fill=\"none\" stroke=\"#ffffff\" stroke-width=\"2\"/><path d=\"m182.24 48.803 10.546-10.546\" clip-path=\"url(#pbb45baefd6)\" fill=\"none\" stroke=\"#ffffff\" stroke-linecap=\"square\" stroke-width=\"2\"/><path d=\"m213.53 105.7h30.13v-30.13h-30.13z\" clip-path=\"url(#pbb45baefd6)\" fill=\"#121619\" stroke=\"#121619\" stroke-width=\"1.5\"/><path d=\"m239.14 95.157c0-2.7958-1.1118-5.4799-3.0887-7.4568s-4.661-3.0887-7.4568-3.0887-5.4799 1.1118-7.4568 3.0887-3.0887 4.661-3.0887 7.4568\" clip-path=\"url(#pbb45baefd6)\" fill=\"none\" stroke=\"#ffffff\" stroke-width=\"2\"/><path d=\"m228.59 95.157 10.546-10.546\" clip-path=\"url(#pbb45baefd6)\" fill=\"none\" stroke=\"#ffffff\" stroke-linecap=\"square\" stroke-width=\"2\"/><g clip-path=\"url(#pbb45baefd6)\"><g transform=\"translate(37.189 48.734) scale(.1625 -.1625)\"><defs><path id=\"DejaVuSans-Oblique-71\" transform=\"scale(.015625)\" d=\"m2669 525q-231-303-546-460-314-156-695-156-531 0-833 358-301 358-301 986 0 506 186 978t533 847q225 244 517 375t614 131q387 0 637-153t363-462l100 525h578l-934-4813h-579l360 1844zm-1778 813q0-463 193-705 194-242 560-242 544 0 928 520t384 1264q0 450-199 689-198 239-569 239-272 0-504-127-231-126-403-370-181-256-286-600-104-343-104-668z\"/><path id=\"DejaVuSans-30\" transform=\"scale(.015625)\" d=\"m2034 4250q-487 0-733-480-245-479-245-1442 0-959 245-1439 246-480 733-480 491 0 736 480 246 480 246 1439 0 963-246 1442-245 480-736 480zm0 500q785 0 1199-621 414-620 414-1801 0-1178-414-1799-414-620-1199-620-784 0-1198 620-414 621-414 1799 0 1181 414 1801 414 621 1198 621z\"/></defs><use xlink:href=\"#DejaVuSans-Oblique-71\"/><use transform=\"translate(63.477 -16.406) scale(.7)\" xlink:href=\"#DejaVuSans-30\"/></g></g><g clip-path=\"url(#pbb45baefd6)\"><g transform=\"translate(37.189 95.088) scale(.1625 -.1625)\"><defs><path id=\"DejaVuSans-31\" transform=\"scale(.015625)\" d=\"m794 531h1031v3560l-1122-225v575l1116 225h631v-4135h1031v-531h-2687v531z\"/></defs><use xlink:href=\"#DejaVuSans-Oblique-71\"/><use transform=\"translate(63.477 -16.406) scale(.7)\" xlink:href=\"#DejaVuSans-31\"/></g></g><g clip-path=\"url(#pbb45baefd6)\"><g transform=\"translate(69.133 130.19) scale(.104 -.104)\"><defs><path id=\"DejaVuSans-32\" transform=\"scale(.015625)\" d=\"m1228 531h2203v-531h-2962v531q359 372 979 998 621 627 780 809 303 340 423 576 121 236 121 464 0 372-261 606-261 235-680 235-297 0-627-103-329-103-704-313v638q381 153 712 231 332 78 607 78 725 0 1156-363 431-362 431-968 0-288-108-546-107-257-392-607-78-91-497-524-418-433-1181-1211z\"/></defs><use xlink:href=\"#DejaVuSans-32\"/></g></g><g clip-path=\"url(#pbb45baefd6)\"><g transform=\"translate(46.291 141.48) scale(.1625 -.1625)\"><defs><path id=\"DejaVuSans-63\" transform=\"scale(.015625)\" d=\"m3122 3366v-538q-244 135-489 202t-495 67q-560 0-870-355-309-354-309-995t309-996q310-354 870-354 250 0 495 67t489 202v-532q-241-112-499-168-257-57-548-57-791 0-1257 497-465 497-465 1341 0 856 470 1346 471 491 1290 491 265 0 518-55 253-54 491-163z\"/></defs><use xlink:href=\"#DejaVuSans-63\"/></g></g><g clip-path=\"url(#pbb45baefd6)\"><g transform=\"translate(85.076 47.87) scale(.13 -.13)\" fill=\"#ffffff\"><defs><path id=\"DejaVuSans-58\" transform=\"scale(.015625)\" d=\"m403 4666h678l1160-1735 1165 1735h678l-1500-2241 1600-2425h-678l-1312 1984-1322-1984h-681l1665 2491-1453 2175z\"/></defs><use xlink:href=\"#DejaVuSans-58\"/></g></g><path d=\"m135.88 96.663v-12.052\" clip-path=\"url(#pbb45baefd6)\" fill=\"none\" stroke=\"#ffffff\" stroke-linecap=\"square\" stroke-width=\"2\"/><path d=\"m129.86 90.637h12.052\" clip-path=\"url(#pbb45baefd6)\" fill=\"none\" stroke=\"#ffffff\" stroke-linecap=\"square\" stroke-width=\"2\"/><g clip-path=\"url(#pbb45baefd6)\"><g transform=\"translate(193.82 130.19) scale(.104 -.104)\"><use xlink:href=\"#DejaVuSans-30\"/></g></g><g clip-path=\"url(#pbb45baefd6)\"><g transform=\"translate(240.18 130.19) scale(.104 -.104)\"><use xlink:href=\"#DejaVuSans-31\"/></g></g><defs><clipPath id=\"pbb45baefd6\"><rect x=\"7.2\" y=\"7.2\" width=\"251.98\" height=\"157.6\"/></clipPath></defs></svg>"
            ],
            "text/plain": [
              "<Figure size 454.517x284.278 with 1 Axes>"
            ]
          },
          "metadata": {
          },
          "output_type": "display_data"
        },
        {
          "name": "stdout",
          "output_type": "stream",
          "text": [
            "Result:  {'11': 1024}\n"
          ]
        }
      ],
      "source": [
        "# Create quantum circuit with 2 qubits and 2 classical bits\n",
        "qc = QuantumCircuit(2, 2)\n",
        "qc.x(0)\n",
        "qc.cx(0,1)  # CNOT controlled by qubit 0 and targeting qubit 1\n",
        "qc.measure([0,1], [0,1])\n",
        "display(qc.draw())     # display a drawing of the circuit\n",
        "\n",
        "job = sim.run(qc)      # run the experiment\n",
        "result = job.result()  # get the results\n",
        "# interpret the results as a \"counts\" dictionary\n",
        "print(\"Result: \", result.get_counts())"
      ]
    },
    {
      "cell_type": "markdown",
      "metadata": {
        "gloss": {
          "Toffoli": {
            "text": "This gate is named after the scientist <a href='https://en.wikipedia.org/wiki/Tommaso_Toffoli'>Tommaso Toffoli</a>.",
            "title": "Toffoli gate"
          }
        }
      },
      "source": [
        "Für unseren Halbaddierer wollen wir keinen unserer Eingänge überschreiben. Stattdessen wollen wir das Ergebnis auf ein anderes Qubit-Paar schreiben. Dazu können wir zwei CNOTs verwenden und die Ausgabe in ein neues Qubit schreiben, von dem wir wissen, dass es den Zustand 0 haben wird:\n",
        "\n",
        "![Schaltplan der Verwendung von zwei CNOTs zum Erstellen eines XOR-Gatters](images/aoc/xor.svg)\n",
        "\n",
        "Wir sind jetzt auf halbem Weg zu einem voll funktionsfähigen Halbaddierer. Wir wissen, wie man das Ausgabebit ganz rechts berechnet, also müssen wir nur noch herausfinden, wie man das linke Ausgabebit berechnet. Wenn Sie sich die vier möglichen Summen noch einmal ansehen, werden Sie feststellen, dass es nur einen Fall gibt, bei dem dies 1 statt 0 ist: 1+1=10. Es passiert nur, wenn beide Bits, die wir hinzufügen, 1 sind.\n",
        "\n",
        "![erforderliche Operationen eines Halbaddierers](images/aoc/half_adder_reqs.svg)\n",
        "\n",
        "Um diesen Teil der Ausgabe zu berechnen, könnten wir unseren Computer einfach dazu bringen, zu prüfen, ob beide Eingaben 1 sind. Wenn sie es sind – und nur wenn sie es sind – müssen wir ein NOT-Gate auf Qubit 3 machen. Das wird es umkehren nur für diesen Fall auf den erforderlichen Wert von 1, was uns die benötigte Ausgabe liefert.\n",
        "\n",
        "Dafür brauchen wir ein neues Gate: wie ein CNOT, aber gesteuert auf zwei Qubits statt nur auf einem. Dadurch wird nur dann ein NOT für das Ziel-Qubit ausgeführt, wenn sich beide Steuerelemente im Zustand 1 befinden. Dieses neue Gate wird als [Toffoli](gloss:toffoli) -Gate bezeichnet. Für diejenigen unter Ihnen, die mit booleschen Logikgattern vertraut sind, handelt es sich im Grunde genommen um ein UND-Gatter.\n",
        "\n",
        "![Halbaddierer-Quantenschaltung](images/aoc/ha_circuit.svg)\n",
        "\n",
        "In Qiskit können wir dies mit der Methode `.ccx()` zu einer Schaltung hinzufügen. Und da haben wir es! Eine Schaltung, die das berühmte mathematische Problem 1+1 berechnen kann."
      ]
    },
    {
      "cell_type": "markdown",
      "metadata": {
      },
      "source": [
        "<!-- ::: q-block.exercise -->\n",
        "\n",
        "### Versuch es\n",
        "\n",
        "Ordnen Sie die Blöcke an, um den Codeblock zu erstellen, der die obige Halbaddiererschaltung erzeugen würde.\n",
        "\n",
        "```\n",
        "q-drag-and-drop-code(goal=\"intro-aoc-3\")\n",
        "    .line from qiskit import QuantumCircuit\n",
        "    .line qc = QuantumCircuit(4, 2)\n",
        "    .line(group=0) qc.cx(0, 2)\n",
        "    .line(group=0) qc.cx(1, 2)\n",
        "    .line(group=0) qc.ccx(0, 1, 3)\n",
        "    .result-info\n",
        "```\n",
        "\n",
        "<!-- ::: -->"
      ]
    },
    {
      "cell_type": "markdown",
      "metadata": {
      },
      "source": [
        "Groß! Jetzt haben wir unseren Halbaddierer, das nächste, was wir tun müssen, um zu überprüfen, ob er funktioniert. Dazu erstellen wir eine weitere Schaltung, die einige Eingaben codiert, den Halbaddierer anwendet und die Ausgabe extrahiert. "
      ]
    },
    {
      "cell_type": "code",
      "execution_count": 8,
      "metadata": {
      },
      "outputs": [
        {
          "data": {
            "image/svg+xml": [
              "<?xml version=\"1.0\" encoding=\"UTF-8\"?><!DOCTYPE svg  PUBLIC '-//W3C//DTD SVG 1.1//EN'  'http://www.w3.org/Graphics/SVG/1.1/DTD/svg11.dtd'><svg width=\"359.2pt\" height=\"264.71pt\" version=\"1.1\" viewBox=\"0 0 359.2 264.71\" xmlns=\"http://www.w3.org/2000/svg\" xmlns:xlink=\"http://www.w3.org/1999/xlink\"><defs><style type=\"text/css\">*{stroke-linejoin: round; stroke-linecap: butt}</style></defs><path d=\"m0 264.71h359.2v-264.71h-359.2z\" fill=\"#ffffff\"/><path d=\"m269.03 219.15h12.052l-6.026 8.6914z\" clip-path=\"url(#pafc58edca3)\" fill=\"#778899\"/><path d=\"m315.38 219.15h12.052l-6.026 8.6914z\" clip-path=\"url(#pafc58edca3)\" fill=\"#778899\"/><path d=\"m64.609 44.283h282.76\" clip-path=\"url(#pafc58edca3)\" fill=\"none\" stroke=\"#000000\" stroke-linecap=\"square\" stroke-width=\"2\"/><path d=\"m64.609 90.637h282.76\" clip-path=\"url(#pafc58edca3)\" fill=\"none\" stroke=\"#000000\" stroke-linecap=\"square\" stroke-width=\"2\"/><path d=\"m64.609 136.99h282.76\" clip-path=\"url(#pafc58edca3)\" fill=\"none\" stroke=\"#000000\" stroke-linecap=\"square\" stroke-width=\"2\"/><path d=\"m64.609 183.35h282.76\" clip-path=\"url(#pafc58edca3)\" fill=\"none\" stroke=\"#000000\" stroke-linecap=\"square\" stroke-width=\"2\"/><path d=\"m64.609 228.19h282.76\" clip-path=\"url(#pafc58edca3)\" fill=\"none\" stroke=\"#778899\" stroke-linecap=\"square\" stroke-width=\"2\"/><path d=\"m64.609 231.21h282.76\" clip-path=\"url(#pafc58edca3)\" fill=\"none\" stroke=\"#778899\" stroke-linecap=\"square\" stroke-width=\"2\"/><path d=\"m73.88 234.33 4.6354-9.2708\" clip-path=\"url(#pafc58edca3)\" fill=\"none\" stroke=\"#778899\" stroke-linecap=\"square\"/><path d=\"m135.99 136.99v-92.708\" clip-path=\"url(#pafc58edca3)\" fill=\"none\" stroke=\"#1192e8\" stroke-linecap=\"square\" stroke-width=\"2\"/><path d=\"m182.35 136.99v-46.354\" clip-path=\"url(#pafc58edca3)\" fill=\"none\" stroke=\"#1192e8\" stroke-linecap=\"square\" stroke-width=\"2\"/><path d=\"m228.7 183.35v-139.06\" clip-path=\"url(#pafc58edca3)\" fill=\"none\" stroke=\"#6929c4\" stroke-linecap=\"square\" stroke-width=\"2\"/><path d=\"m276.56 136.99v82.162\" clip-path=\"url(#pafc58edca3)\" fill=\"none\" stroke=\"#778899\" stroke-linecap=\"square\" stroke-width=\"2\"/><path d=\"m273.55 136.99v82.162\" clip-path=\"url(#pafc58edca3)\" fill=\"none\" stroke=\"#778899\" stroke-linecap=\"square\" stroke-width=\"2\"/><path d=\"m322.92 183.35v35.808\" clip-path=\"url(#pafc58edca3)\" fill=\"none\" stroke=\"#778899\" stroke-linecap=\"square\" stroke-width=\"2\"/><path d=\"m319.9 183.35v35.808\" clip-path=\"url(#pafc58edca3)\" fill=\"none\" stroke=\"#778899\" stroke-linecap=\"square\" stroke-width=\"2\"/><path d=\"m74.575 59.348h30.13v-30.13h-30.13z\" clip-path=\"url(#pafc58edca3)\" fill=\"#005d5d\" stroke=\"#005d5d\" stroke-width=\"1.5\"/><path d=\"m74.575 105.7h30.13v-30.13h-30.13z\" clip-path=\"url(#pafc58edca3)\" fill=\"#005d5d\" stroke=\"#005d5d\" stroke-width=\"1.5\"/><path d=\"m135.99 48.803c1.1986 0 2.3482-0.4762 3.1958-1.3237 0.84753-0.84753 1.3237-1.9972 1.3237-3.1958 0-1.1986-0.4762-2.3482-1.3237-3.1958-0.84753-0.84753-1.9972-1.3237-3.1958-1.3237-1.1986 0-2.3482 0.4762-3.1958 1.3237s-1.3237 1.9972-1.3237 3.1958c0 1.1986 0.4762 2.3482 1.3237 3.1958s1.9972 1.3237 3.1958 1.3237z\" clip-path=\"url(#pafc58edca3)\" fill=\"#1192e8\" stroke=\"#1192e8\" stroke-width=\"1.5\"/><path d=\"m135.99 147.54c2.7967 0 5.4792-1.1111 7.4568-3.0887 1.9776-1.9776 3.0887-4.6601 3.0887-7.4568 0-2.7967-1.1111-5.4792-3.0887-7.4568-1.9776-1.9776-4.6601-3.0887-7.4568-3.0887-2.7967 0-5.4792 1.1111-7.4568 3.0887-1.9776 1.9776-3.0887 4.6601-3.0887 7.4568 0 2.7967 1.1111 5.4792 3.0887 7.4568 1.9776 1.9776 4.6601 3.0887 7.4568 3.0887z\" clip-path=\"url(#pafc58edca3)\" fill=\"#1192e8\" stroke=\"#1192e8\" stroke-width=\"2\"/><path d=\"m182.35 95.157c1.1986 0 2.3482-0.4762 3.1958-1.3237 0.84753-0.84753 1.3237-1.9972 1.3237-3.1958s-0.4762-2.3482-1.3237-3.1958c-0.84753-0.84753-1.9972-1.3237-3.1958-1.3237s-2.3482 0.4762-3.1958 1.3237c-0.84753 0.84753-1.3237 1.9972-1.3237 3.1958s0.4762 2.3482 1.3237 3.1958c0.84753 0.84753 1.9972 1.3237 3.1958 1.3237z\" clip-path=\"url(#pafc58edca3)\" fill=\"#1192e8\" stroke=\"#1192e8\" stroke-width=\"1.5\"/><path d=\"m182.35 147.54c2.7967 0 5.4792-1.1111 7.4568-3.0887 1.9776-1.9776 3.0887-4.6601 3.0887-7.4568 0-2.7967-1.1111-5.4792-3.0887-7.4568-1.9776-1.9776-4.6601-3.0887-7.4568-3.0887-2.7967 0-5.4792 1.1111-7.4568 3.0887-1.9776 1.9776-3.0887 4.6601-3.0887 7.4568 0 2.7967 1.1111 5.4792 3.0887 7.4568 1.9776 1.9776 4.6601 3.0887 7.4568 3.0887z\" clip-path=\"url(#pafc58edca3)\" fill=\"#1192e8\" stroke=\"#1192e8\" stroke-width=\"2\"/><path d=\"m228.7 48.803c1.1986 0 2.3482-0.4762 3.1958-1.3237s1.3237-1.9972 1.3237-3.1958c0-1.1986-0.4762-2.3482-1.3237-3.1958s-1.9972-1.3237-3.1958-1.3237c-1.1986 0-2.3482 0.4762-3.1958 1.3237-0.84753 0.84753-1.3237 1.9972-1.3237 3.1958 0 1.1986 0.4762 2.3482 1.3237 3.1958 0.84753 0.84753 1.9972 1.3237 3.1958 1.3237z\" clip-path=\"url(#pafc58edca3)\" fill=\"#6929c4\" stroke=\"#6929c4\" stroke-width=\"1.5\"/><path d=\"m228.7 95.157c1.1986 0 2.3482-0.4762 3.1958-1.3237 0.84753-0.84753 1.3237-1.9972 1.3237-3.1958s-0.4762-2.3482-1.3237-3.1958c-0.84753-0.84753-1.9972-1.3237-3.1958-1.3237-1.1986 0-2.3482 0.4762-3.1958 1.3237-0.84753 0.84753-1.3237 1.9972-1.3237 3.1958s0.4762 2.3482 1.3237 3.1958c0.84753 0.84753 1.9972 1.3237 3.1958 1.3237z\" clip-path=\"url(#pafc58edca3)\" fill=\"#6929c4\" stroke=\"#6929c4\" stroke-width=\"1.5\"/><path d=\"m228.7 193.89c2.7967 0 5.4792-1.1111 7.4568-3.0887 1.9776-1.9776 3.0887-4.6601 3.0887-7.4568 0-2.7967-1.1111-5.4792-3.0887-7.4568-1.9776-1.9776-4.6601-3.0887-7.4568-3.0887-2.7967 0-5.4792 1.1111-7.4568 3.0887-1.9776 1.9776-3.0887 4.6601-3.0887 7.4568 0 2.7967 1.1111 5.4792 3.0887 7.4568 1.9776 1.9776 4.6601 3.0887 7.4568 3.0887z\" clip-path=\"url(#pafc58edca3)\" fill=\"#6929c4\" stroke=\"#6929c4\" stroke-width=\"2\"/><path d=\"m259.99 152.06h30.13v-30.13h-30.13z\" clip-path=\"url(#pafc58edca3)\" fill=\"#121619\" stroke=\"#121619\" stroke-width=\"1.5\"/><path d=\"m285.6 141.51c0-2.7958-1.1118-5.4799-3.0887-7.4568s-4.661-3.0887-7.4568-3.0887-5.4799 1.1118-7.4568 3.0887c-1.9769 1.9769-3.0887 4.661-3.0887 7.4568\" clip-path=\"url(#pafc58edca3)\" fill=\"none\" stroke=\"#ffffff\" stroke-width=\"2\"/><path d=\"m275.06 141.51 10.546-10.546\" clip-path=\"url(#pafc58edca3)\" fill=\"none\" stroke=\"#ffffff\" stroke-linecap=\"square\" stroke-width=\"2\"/><path d=\"m306.35 198.41h30.13v-30.13h-30.13z\" clip-path=\"url(#pafc58edca3)\" fill=\"#121619\" stroke=\"#121619\" stroke-width=\"1.5\"/><path d=\"m331.96 187.86c0-2.7958-1.1118-5.4799-3.0887-7.4568s-4.661-3.0887-7.4568-3.0887-5.4799 1.1118-7.4568 3.0887-3.0887 4.661-3.0887 7.4568\" clip-path=\"url(#pafc58edca3)\" fill=\"none\" stroke=\"#ffffff\" stroke-width=\"2\"/><path d=\"m321.41 187.86 10.546-10.546\" clip-path=\"url(#pafc58edca3)\" fill=\"none\" stroke=\"#ffffff\" stroke-linecap=\"square\" stroke-width=\"2\"/><g clip-path=\"url(#pafc58edca3)\"><g transform=\"translate(37.301 48.734) scale(.1625 -.1625)\"><defs><path id=\"DejaVuSans-Oblique-71\" transform=\"scale(.015625)\" d=\"m2669 525q-231-303-546-460-314-156-695-156-531 0-833 358-301 358-301 986 0 506 186 978t533 847q225 244 517 375t614 131q387 0 637-153t363-462l100 525h578l-934-4813h-579l360 1844zm-1778 813q0-463 193-705 194-242 560-242 544 0 928 520t384 1264q0 450-199 689-198 239-569 239-272 0-504-127-231-126-403-370-181-256-286-600-104-343-104-668z\"/><path id=\"DejaVuSans-30\" transform=\"scale(.015625)\" d=\"m2034 4250q-487 0-733-480-245-479-245-1442 0-959 245-1439 246-480 733-480 491 0 736 480 246 480 246 1439 0 963-246 1442-245 480-736 480zm0 500q785 0 1199-621 414-620 414-1801 0-1178-414-1799-414-620-1199-620-784 0-1198 620-414 621-414 1799 0 1181 414 1801 414 621 1198 621z\"/></defs><use xlink:href=\"#DejaVuSans-Oblique-71\"/><use transform=\"translate(63.477 -16.406) scale(.7)\" xlink:href=\"#DejaVuSans-30\"/></g></g><g clip-path=\"url(#pafc58edca3)\"><g transform=\"translate(37.301 95.088) scale(.1625 -.1625)\"><defs><path id=\"DejaVuSans-31\" transform=\"scale(.015625)\" d=\"m794 531h1031v3560l-1122-225v575l1116 225h631v-4135h1031v-531h-2687v531z\"/></defs><use xlink:href=\"#DejaVuSans-Oblique-71\"/><use transform=\"translate(63.477 -16.406) scale(.7)\" xlink:href=\"#DejaVuSans-31\"/></g></g><g clip-path=\"url(#pafc58edca3)\"><g transform=\"translate(37.301 141.44) scale(.1625 -.1625)\"><defs><path id=\"DejaVuSans-32\" transform=\"scale(.015625)\" d=\"m1228 531h2203v-531h-2962v531q359 372 979 998 621 627 780 809 303 340 423 576 121 236 121 464 0 372-261 606-261 235-680 235-297 0-627-103-329-103-704-313v638q381 153 712 231 332 78 607 78 725 0 1156-363 431-362 431-968 0-288-108-546-107-257-392-607-78-91-497-524-418-433-1181-1211z\"/></defs><use xlink:href=\"#DejaVuSans-Oblique-71\"/><use transform=\"translate(63.477 -16.406) scale(.7)\" xlink:href=\"#DejaVuSans-32\"/></g></g><g clip-path=\"url(#pafc58edca3)\"><g transform=\"translate(37.301 187.8) scale(.1625 -.1625)\"><defs><path id=\"DejaVuSans-33\" transform=\"scale(.015625)\" d=\"m2597 2516q453-97 707-404 255-306 255-756 0-690-475-1069-475-378-1350-378-293 0-604 58t-642 174v609q262-153 574-231 313-78 654-78 593 0 904 234t311 681q0 413-289 645-289 233-804 233h-544v519h569q465 0 712 186t247 536q0 359-255 551-254 193-729 193-260 0-557-57-297-56-653-174v562q360 100 674 150t592 50q719 0 1137-327 419-326 419-882 0-388-222-655t-631-370z\"/></defs><use xlink:href=\"#DejaVuSans-Oblique-71\"/><use transform=\"translate(63.477 -16.406) scale(.7)\" xlink:href=\"#DejaVuSans-33\"/></g></g><g clip-path=\"url(#pafc58edca3)\"><g transform=\"translate(69.245 222.9) scale(.104 -.104)\"><use xlink:href=\"#DejaVuSans-32\"/></g></g><g clip-path=\"url(#pafc58edca3)\"><g transform=\"translate(46.403 234.18) scale(.1625 -.1625)\"><defs><path id=\"DejaVuSans-63\" transform=\"scale(.015625)\" d=\"m3122 3366v-538q-244 135-489 202t-495 67q-560 0-870-355-309-354-309-995t309-996q310-354 870-354 250 0 495 67t489 202v-532q-241-112-499-168-257-57-548-57-791 0-1257 497-465 497-465 1341 0 856 470 1346 471 491 1290 491 265 0 518-55 253-54 491-163z\"/></defs><use xlink:href=\"#DejaVuSans-63\"/></g></g><g clip-path=\"url(#pafc58edca3)\"><g transform=\"translate(85.188 47.87) scale(.13 -.13)\" fill=\"#ffffff\"><defs><path id=\"DejaVuSans-58\" transform=\"scale(.015625)\" d=\"m403 4666h678l1160-1735 1165 1735h678l-1500-2241 1600-2425h-678l-1312 1984-1322-1984h-681l1665 2491-1453 2175z\"/></defs><use xlink:href=\"#DejaVuSans-58\"/></g></g><g clip-path=\"url(#pafc58edca3)\"><g transform=\"translate(85.188 94.224) scale(.13 -.13)\" fill=\"#ffffff\"><use xlink:href=\"#DejaVuSans-58\"/></g></g><path d=\"m135.99 143.02v-12.052\" clip-path=\"url(#pafc58edca3)\" fill=\"none\" stroke=\"#ffffff\" stroke-linecap=\"square\" stroke-width=\"2\"/><path d=\"m129.97 136.99h12.052\" clip-path=\"url(#pafc58edca3)\" fill=\"none\" stroke=\"#ffffff\" stroke-linecap=\"square\" stroke-width=\"2\"/><path d=\"m182.35 143.02v-12.052\" clip-path=\"url(#pafc58edca3)\" fill=\"none\" stroke=\"#ffffff\" stroke-linecap=\"square\" stroke-width=\"2\"/><path d=\"m176.32 136.99h12.052\" clip-path=\"url(#pafc58edca3)\" fill=\"none\" stroke=\"#ffffff\" stroke-linecap=\"square\" stroke-width=\"2\"/><path d=\"m228.7 189.37v-12.052\" clip-path=\"url(#pafc58edca3)\" fill=\"none\" stroke=\"#ffffff\" stroke-linecap=\"square\" stroke-width=\"2\"/><path d=\"m222.68 183.35h12.052\" clip-path=\"url(#pafc58edca3)\" fill=\"none\" stroke=\"#ffffff\" stroke-linecap=\"square\" stroke-width=\"2\"/><g clip-path=\"url(#pafc58edca3)\"><g transform=\"translate(286.64 222.9) scale(.104 -.104)\"><use xlink:href=\"#DejaVuSans-30\"/></g></g><g clip-path=\"url(#pafc58edca3)\"><g transform=\"translate(333 222.9) scale(.104 -.104)\"><use xlink:href=\"#DejaVuSans-31\"/></g></g><defs><clipPath id=\"pafc58edca3\"><rect x=\"7.2\" y=\"7.2\" width=\"344.8\" height=\"250.31\"/></clipPath></defs></svg>"
            ],
            "text/plain": [
              "<Figure size 621.941x451.5 with 1 Axes>"
            ]
          },
          "execution_count": 8,
          "metadata": {
          },
          "output_type": "execute_result"
        }
      ],
      "source": [
        "test_qc = QuantumCircuit(4, 2)\n",
        "\n",
        "# First, our circuit should encode an input (here '11')\n",
        "test_qc.x(0)\n",
        "test_qc.x(1)\n",
        "\n",
        "# Next, it should carry out the adder circuit we created\n",
        "test_qc.cx(0,2)\n",
        "test_qc.cx(1,2)\n",
        "test_qc.ccx(0,1,3)\n",
        "\n",
        "# Finally, we will measure the bottom two qubits to extract the output\n",
        "test_qc.measure(2,0)\n",
        "test_qc.measure(3,1)\n",
        "test_qc.draw()"
      ]
    },
    {
      "cell_type": "code",
      "execution_count": 9,
      "metadata": {
      },
      "outputs": [
        {
          "data": {
            "text/plain": [
              "{'10': 1024}"
            ]
          },
          "execution_count": 9,
          "metadata": {
          },
          "output_type": "execute_result"
        }
      ],
      "source": [
        "job = sim.run(test_qc)  # run the experiment\n",
        "result = job.result()   # get the results\n",
        "result.get_counts()     # interpret the results as a “counts” dictionary"
      ]
    },
    {
      "cell_type": "markdown",
      "metadata": {
      },
      "source": [
        "Hier können wir sehen, dass das Ergebnis „10“ 1024 Mal gemessen wurde und wir kein anderes Ergebnis gemessen haben.\n",
        "\n",
        "<!-- ::: q-block.exercise -->\n",
        "\n",
        "### Übung\n",
        "\n",
        "Überprüfen Sie, ob die Halbaddiererschaltung für alle vier möglichen Eingänge funktioniert.\n",
        "\n",
        "[Versuchen Sie es in IBM Quantum Lab](https://quantum-computing.ibm.com/lab)\n",
        "\n",
        "<!-- ::: -->\n",
        "\n",
        "Der Halbaddierer enthält alles, was Sie zum Addieren benötigen. Mit den Gattern NOT, CNOT und Toffoli können wir Programme erstellen, die eine beliebige Menge von Zahlen beliebiger Größe addieren.\n",
        "\n",
        "Diese drei Gatter reichen aus, um auch alles andere im Computerbereich zu erledigen. Tatsächlich können wir sogar auf die CNOT verzichten. Außerdem wird das NICHT-Gatter nur wirklich benötigt, um Bits mit dem Wert 1 zu erzeugen. Das Toffoli-Gatter ist im Wesentlichen das Atom der Mathematik. Es ist das einfachste Element, aus dem sich jede andere Problemlösungstechnik zusammenstellen lässt."
      ]
    }
  ],
  "metadata": {
    "kernelspec": {
      "display_name": "Python 3",
      "language": "python",
      "name": "python3"
    },
    "language_info": {
      "codemirror_mode": {
        "name": "ipython",
        "version": 3
      },
      "file_extension": ".py",
      "mimetype": "text/x-python",
      "name": "python",
      "nbconvert_exporter": "python",
      "pygments_lexer": "ipython3",
      "version": "3.9"
    }
  },
  "nbformat": 4,
  "nbformat_minor": 4
}
