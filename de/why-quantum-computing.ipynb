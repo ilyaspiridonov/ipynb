{
  "cells": [
    {
      "cell_type": "markdown",
      "metadata": {
      },
      "source": [
        "# Warum Quantencomputing?"
      ]
    },
    {
      "cell_type": "markdown",
      "metadata": {
      },
      "source": [
        "## Was ist ein Computer?\n",
        "\n",
        "HELLO Da Sie es geschafft haben, auf diese Webseite zuzugreifen, sollten Sie bereits wissen, was ein Computer ist. Heutzutage nehmen Computer viele Formen an: von Laptops und Telefonen bis hin zu Systemen, die Ampeln steuern. Es scheint, dass Computer alles können! Diese Systeme können sehr komplex und spezialisiert sein, aber eines haben sie alle gemeinsam: Ein Computer führt eine Reihe von Anweisungen zu einigen Eingabeinformationen aus, um uns einige neue (Ausgabe-)Informationen zu liefern.\n",
        "\n",
        "Die Anweisungen, die wir Computern geben, müssen sehr spezifisch und eindeutig sein. Wir nennen diese Anweisungssätze *Algorithmen,* und ein Großteil der Computerforschung befasst sich mit dem Verhalten verschiedener Algorithmen. In diesem Kurs werden wir Computer nur in ihrer einfachsten Form betrachten; keine Tastaturen, Mäuse oder Bildschirme – nur Informationen und Algorithmen.\n",
        "\n",
        "![Ein Künstler-Rendering von praktisch allen Computern](images/why-qc/basically_all_computers.png)"
      ]
    },
    {
      "cell_type": "markdown",
      "metadata": {
        "formulas": {
          "T": {
            "meaning": "blah-blah -- this is not a joke!",
            "type": "Locally defined variable"
          },
          "exp": {
            "meaning": "This is the number of digits in our secret number. Because this is a superscript, this means we are doing 10 to the power of d.",
            "type": "Locally defined variable"
          },
          "prop_to": {
            "meaning": "'Proportional to': Everything to the left of this symbol is <a href='https://en.wikipedia.org/wiki/Proportionality_(mathematics)'>proportional to</a> the things on the right.",
            "type": "Universal notation"
          }
        },
        "gloss": {
          "resources": {
            "text": "A resource is anything the algorithm needs to run. In computer science, this usually means either the time needed by the algorithm, or the space (e.g. computer memory).",
            "title": "Resources"
          }
        }
      },
      "source": [
        "## Computeralgorithmen klassifizieren\n",
        "\n",
        "Um die Rolle von Quantencomputern unter modernen traditionellen Computern zu verstehen, müssen wir zunächst lernen, wie wir die Leistung verschiedener Algorithmen messen.\n",
        "\n",
        "In der Informatik klassifizieren wir Algorithmen danach, wie die von ihnen verwendeten [Ressourcen](gloss:resources) mit der Größe der Eingabe wachsen. Wir nennen dies die *Komplexität* des Algorithmus. Beispielsweise muss ein Algorithmus, der entscheidet, ob eine Zahl gerade ist, nur die letzte Ziffer dieser Zahl betrachten. In diesem Fall ist die „Eingabe“ eine Zahl und die Ausgabe entweder „Gerade“ oder „Ungerade“. Wir nennen dies einen *konstanten* Zeitalgorithmus, da die Zeit, die der Algorithmus zum Abschließen benötigt, nicht von der Größe der Eingabezahl abhängt. Es kann auf verschiedenen Computern unterschiedlich lange dauern, bis Sie dieses Ergebnis erhalten, aber das liegt an anderen Faktoren und nicht an der Länge der Eingabe.\n",
        "\n",
        "![Die Schritte eines Algorithmus, der herausfindet, ob eine Zahl gerade oder ungerade ist](images/why-qc/odd-even-algo.svg)\n",
        "\n",
        "Schauen wir uns ein anderes Beispiel an. Diesmal besteht die Eingabe aus zwei Zahlen gleicher Länge, und das Problem besteht darin, sie zu addieren. In diesem Fall ist die Ausgabe eine neue Zahl. Wenn Sie zwei mehrstellige Zahlen addieren, beginnt ein gängiger Algorithmus, den Sie wahrscheinlich in der Schule gelernt haben, mit der Ziffer ganz rechts von jeder Zahl und addiert sie zusammen. Dann bewegt es sich um eine Ziffer nach links (wobei eine „1“ übernommen wird, wenn das Ergebnis größer als 9 war) und wiederholt den Vorgang. Der Computer wiederholt dies, bis keine Ziffern mehr hinzuzufügen sind und der Algorithmus endet.\n",
        "\n",
        "![Animation, die die Schritte eines Additionsalgorithmus zeigt](images/why-qc/adding-algo.svg)\n",
        "\n",
        "<!-- ::: q-block.exercise -->\n",
        "\n",
        "### Wie komplex ist die Addition?\n",
        "\n",
        "<!-- ::: q-quiz(goal=\"intro-why-qc-0\") -->\n",
        "\n",
        "<!-- ::: .question -->\n",
        "\n",
        "Die Zeit, die dieser Additionsalgorithmus benötigt, um abzuschließen ...\n",
        "\n",
        "<!-- ::: -->\n",
        "\n",
        "<!-- ::: .option(correct) -->\n",
        "\n",
        "1. ...wächst linear (proportional) mit der Länge der eingegebenen Zahl (lineare Zeit).\n",
        "\n",
        "<!-- ::: -->\n",
        "\n",
        "<!-- ::: .option -->\n",
        "\n",
        "1. ...wird nicht von der Länge der eingegebenen Zahl beeinflusst (konstante Zeit)\n",
        "\n",
        "<!-- ::: -->\n",
        "\n",
        "<!-- ::: .option -->\n",
        "\n",
        "1. ...wächst quadratisch mit der Länge der eingegebenen Zahl (quadratische Zeit)\n",
        "\n",
        "<!-- ::: -->\n",
        "\n",
        "<!-- ::: -->\n",
        "\n",
        "<!-- ::: -->\n",
        "\n",
        "Auch hier führen verschiedene Computer diesen Algorithmus mit unterschiedlichen Geschwindigkeiten aus; Ein Laptop kann millionenfach schneller addieren als ein Mensch. Aber egal, ob Sie eine Million Operationen pro Sekunde oder nur eine ausführen können, die Wachstumsrate wird dieselbe sein.\n",
        "\n",
        "![Diagramm von konstanten und linearen Laufzeiten vs. Eingabegrößen für verschiedene Laufzeiten](images/why-qc/graph-linear-constant.svg)\n",
        "\n",
        "Hier noch ein letztes Beispiel, das uns ganz besonders interessiert. Angenommen, ich habe eine Geheimnummer (z. B. eine PIN), und das Problem besteht darin, sie zu erraten. In diesem Fall ist die Größe des Problems die Länge der Zahl.\n",
        "\n",
        "Nehmen wir an, wir können nur überprüfen, ob unsere Antwort richtig ist, indem wir sie in eine Tastatur eingeben. Da wir keine Informationen darüber haben, was diese Zahl sein könnte, verwendet der beste Algorithmus, um diese Geheimzahl zu finden, eine „Brute-Force“-Methode, was bedeutet, dass er nichts Cleveres tut und einfach jede mögliche Zahl ausprobiert.\n",
        "\n",
        "Wie lange würde das dauern? Nun, theoretisch könnten wir Glück haben und die Antwort auf einmal erraten, aber das ist sehr unwahrscheinlich. Im Durchschnitt müssten wir etwa die Hälfte der möglichen Eingaben ausprobieren, sodass die Laufzeit unseres Algorithmus proportional zur Anzahl der möglichen Kombinationen ist. Die Frage lautet nun: Wie wächst die Zahl der möglichen Kombinationen mit der Länge der Geheimzahl?\n",
        "\n",
        "![Animation, die die Schritte eines Brute-Force-Suchalgorithmus zeigt](images/why-qc/search-algo.svg)\n",
        "\n",
        "Jede Ziffer, die wir zu unserer Geheimzahl hinzufügen, multipliziert die Anzahl möglicher Kombinationen mit 10. Eine Geheimzahl mit 1 Ziffer hat z. B. 10 mögliche Werte (0, 1, 2, 3, 4, 5, 6, 7, 8 &amp; 9), und eine Geheimzahl mit 2 Ziffern hat 100 mögliche Werte. Unter der Annahme, dass das Erraten jeder Ziffer die gleiche Zeit in Anspruch nimmt (unabhängig von der Länge), können wir dies mathematisch so darstellen:\n",
        "\n",
        "$$ \\cssId{T}{T} \\cssId{prop_to}{\\propto} 10^\\cssId{exp}{d}$$\n",
        "\n",
        "Sie werden feststellen, dass die Anzahl der Ziffern (d) der Exponent in dieser Gleichung ist, und daher sagen wir, dass dies ein *exponentieller* Zeitalgorithmus ist und dass die Laufzeit exponentiell mit der Länge der Eingabe wächst.\n",
        "\n",
        "![Graph von konstanten, linearen und exponentiellen Laufzeiten vs. Eingabegrößen für verschiedene Laufzeiten](images/why-qc/graph-all.svg)"
      ]
    },
    {
      "cell_type": "markdown",
      "metadata": {
        "gloss": {
          "intractable": {
            "text": "An intractable problem is one which can be solved in theory, but requires too many resources in practice.",
            "title": "Intractable"
          }
        }
      },
      "source": [
        "## Warum messen wir solche Algorithmen?\n",
        "\n",
        "Unterschiedliche Computer haben unterschiedliche Stärken; Bestimmte Vorgänge können auf einem Computer schneller sein als auf einem anderen. Indem wir das Wachstum gegenüber der Eingabegröße untersuchen, können wir gerätespezifische Details ignorieren und den *Algorithmus* tatsächlich messen, anstatt die spezifische Kombination aus Algorithmus und Computer. Wichtig ist, dass das Wissen, wie ein Algorithmus mit der Eingabegröße skaliert, uns auch sagt, ob der Algorithmus überschaubar wachsen wird oder nicht.\n",
        "\n",
        "Denken wir an den linearen Additionsalgorithmus, den wir oben gesehen haben. Wenn wir zwei 10-stellige Zahlen in einer Sekunde addieren könnten, sollten wir aufgrund der linearen Wachstumsrate in der Lage sein, zwei 20-stellige Zahlen in zwei Sekunden zu addieren. Jede zusätzliche 10-Stelle sollte unsere Berechnungszeit ungefähr um eine weitere Sekunde verlängern.\n",
        "\n",
        "Stellen Sie sich dagegen vor, Sie könnten mit dem obigen exponentiellen Suchalgorithmus in 1 Sekunde eine 10-stellige PIN finden. Das bedeutet, dass Ihr Computer schnell genug ist, um ~5.000.000.000 Kombinationen pro Sekunde auszuprobieren. Wir würden erwarten, dass dieser Computer, der diesen Algorithmus verwendet, etwa 5.000.000.000 Sekunden (~ 150 Jahre) benötigt, um eine 20-stellige PIN zu finden. Wenn Sie weitere 10 Ziffern hinzufügen, erhöht sich dies auf etwa 150.000.000.000 Jahre (~ 120-mal das Alter des Universums). Exponentialzeitalgorithmen mit sogar einer bescheidenen Eingabegröße (in diesem Fall ~30 Ziffern) können nicht nur schwierig, sondern buchstäblich unmöglich werden.\n",
        "\n",
        "Während dieses PIN-Ermittlungsproblem ein künstliches Beispiel ist, das wir so einfach wie möglich gestalten wollten, gibt es viele echte Probleme in der Informatik, für die wir nur ineffiziente Algorithmen haben. Trotz der beeindruckenden Geschwindigkeit heutiger Computer können diese [hartnäckigen](gloss:intractable) Probleme selbst für die größten Supercomputer zu schwierig sein.\n",
        "\n",
        "Aber wenn wir Algorithmen finden, die effizienter wachsen, können diese hartnäckigen Probleme plötzlich beherrschbar werden, selbst mit relativ langsamen oder unzuverlässigen Computern. Hier kommt Quantencomputing ins Spiel.\n",
        "\n",
        "## Wie kann Quantencomputing helfen?\n",
        "\n",
        "Bisher haben wir uns Algorithmen sehr abstrakt vorgestellt, aber die Computer, die diese Algorithmen ausführen, müssen in der realen Welt existieren. Ob diese Computer leistungsstarke Mikrochips oder Menschen mit Stift und Papier sind, alle Computer unterliegen letztendlich den Gesetzen der Physik, und die Operationen, die sie ausführen können, begrenzen die Algorithmen, die wir erstellen können.\n",
        "\n",
        "Physik ist ein Versuch, das Regelwerk auszuarbeiten, dem alles im Universum folgt. Um das frühe 20. Jahrhundert herum sahen Physiker bei heiklen Experimenten in Laboratorien seltsame Verhaltensweisen, die ihre gegenwärtige Physik nicht erklären konnte. Dies bedeutete, dass die Regeln nicht ganz genau waren, also entwickelten sie die vollständigere „Quanten“-Physik, die dieses Verhalten sehr gut beschreibt.\n",
        "\n",
        "Physiker haben die Quantenphysik entwickelt, um Verhalten zu erklären, das sie noch nie zuvor gesehen haben, und Informatiker fanden heraus, dass sie dieses neu entdeckte Verhalten (theoretisch) nutzen könnten, um effizientere Algorithmen zu entwickeln. Infolgedessen gibt es bestimmte Probleme, von denen wir glauben, dass sie für herkömmliche Computer unlösbar sind, aber für einen „Quanten“-Computer, der dieses Verhalten ausnutzen kann, beherrschbar sind. Ein solches Problem ist die *ganzzahlige Faktorisierung* .\n",
        "\n",
        "Angenommen, wir haben eine Ganzzahl, die wir '$x$' nennen. Ein Faktorisierungsalgorithmus findet die ganzen Zahlen $p$ und $q$ so, dass $p×q = x$. Das ist manchmal einfach; Sie können auf einen Blick erkennen, dass $2000 = 2 × 1000$ ist, aber wenn $x$ das Produkt zweier großer Primzahlen ist, wird dieses Problem sehr schwierig. Wenn wir über ganzzahlige Faktorisierung sprechen, gehen wir vom schwierigsten (Worst-Case) Szenario aus. In der Codezelle unten weisen wir der Variablen <code>x</code> eine 250-stellige Zahl zu:"
      ]
    },
    {
      "cell_type": "code",
      "execution_count": 1,
      "metadata": {
      },
      "outputs": [

      ],
      "source": [
        "# pylint: disable=line-too-long, invalid-name\n",
        "x = 2140324650240744961264423072839333563008614715144755017797754920881418023447140136643345519095804679610992851872470914587687396261921557363047454770520805119056493106687691590019759405693457452230589325976697471681738069364894699871578494975937497937"
      ]
    },
    {
      "cell_type": "markdown",
      "metadata": {
        "gloss": {
          "coreyears": {
            "text": "Conventional computer chips are often made from processors called <a href=\"https://en.wikipedia.org/wiki/Multi-core_processor\">\"cores\"</a>. A <i>core-year</i> is the equivalent of using one of these cores continuously for a year. For reference, a modern laptops have around 2-4 cores. The meaning of this number depends on how powerful the core is, but this should give you a rough idea of the computing power involved.",
            "title": "Core Year"
          }
        }
      },
      "source": [
        "Im Jahr 2020 haben Forscher diese Zahl mit einem klassischen Supercomputer und ~2700 [Kernjahren](gloss:coreyears) Rechenleistung faktorisiert. Dies war eine große Anstrengung und zum Zeitpunkt des Schreibens rekordverdächtig. Wir können ihre Ergebnisse in der Codezelle unten überprüfen (zum Glück haben wir effiziente Algorithmen für die Multiplikation!):"
      ]
    },
    {
      "cell_type": "code",
      "execution_count": 2,
      "metadata": {
      },
      "outputs": [
        {
          "data": {
            "text/plain": [
              "True"
            ]
          },
          "execution_count": 2,
          "metadata": {
          },
          "output_type": "execute_result"
        }
      ],
      "source": [
        "p = 64135289477071580278790190170577389084825014742943447208116859632024532344630238623598752668347708737661925585694639798853367\n",
        "q = 33372027594978156556226010605355114227940760344767554666784520987023841729210037080257448673296881877565718986258036932062711\n",
        "\n",
        "p*q == x  # Evaluates to 'True'"
      ]
    },
    {
      "cell_type": "markdown",
      "metadata": {
        "gloss": {
          "RSA": {
            "text": "RSA numbers are numbers taken from the RSA factoring challenge. These numbers are intentionally chosen to be difficult to factor.<p>'RSA' are the initials of three of the people that invented the protocol that uses these large numbers to encrypt information.",
            "title": "RSA Number"
          }
        }
      },
      "source": [
        "Die angezeigte Ausgabe ist der Wert der letzten Zeile der Zelle. In diesem Fall können wir sehen, dass <code>p*q == x</code> zu <code>True</code> ausgewertet wird. Obwohl nicht mathematisch bewiesen, sind wir ziemlich sicher, dass es keinen effizienten Algorithmus gibt, um solche Zahlen auf herkömmlichen Computern zu faktorisieren. Tatsächlich beruht ein Großteil der Verschlüsselung des Internets auf der Annahme, dass dieses Problem nicht zu lösen ist und dass die Faktorisierung einer 617-stelligen [RSA](gloss:RSA) -Nummer unmöglich ist. Im Gegensatz dazu kennen wir effiziente Faktorisierungsalgorithmen für Quantencomputer, von denen wir schätzen, dass sie diese Zahlen in weniger als einem Tag faktorisieren könnten, sobald wir genügend große Quantencomputer haben."
      ]
    },
    {
      "cell_type": "markdown",
      "metadata": {
        "gloss": {
          "noise": {
            "text": "Noise is useless information that's difficult to distinguish from useful information. For example, it's hard to hear someone talking to you if there are lots of other people talking loudly nearby.",
            "title": "Noise"
          },
          "qiskit": {
            "text": "Qiskit is a software development kit for working with quantum computers.",
            "title": "Qiskit"
          },
          "qubits": {
            "text": "A 'qubit' is a 'quantum bit'. We will study these later in this course.",
            "title": "Qubit"
          },
          "transistor": {
            "text": "A transistor is an electronic device. They can be used to switch electric currents on and off, and can be used to build a computer processor.",
            "title": "Transistor"
          }
        }
      },
      "source": [
        "## Wo sind wir jetzt?\n",
        "\n",
        "Wir wissen jetzt, dass Quantencomputer effizientere Algorithmen ausführen können, aber die Quantencomputer, die wir heute haben, sind zu klein und instabil, um einen Vorteil gegenüber herkömmlichen Computern zu bieten.\n",
        "\n",
        "Auf einer sehr einfachen Ebene gibt es zwei Faktoren, die die Größe der Probleme begrenzen, die unsere Quantencomputer lösen können. Die erste ist die Datenmenge, die sie speichern und bearbeiten können, die wir normalerweise in [*Qubits*](gloss:qubits) messen. Wenn wir nicht genügend Qubits haben, können wir Probleme oberhalb einer bestimmten Größe einfach nicht speichern und bearbeiten. Die zweite ist die Fehlerrate unseres Quantencomputers; Da wir Quantenverhalten nur in heiklen Laborexperimenten sehen, ist die Herstellung von Quantencomputern ein heikler Prozess. Die Quantencomputer, die wir derzeit haben, sind verrauscht, was bedeutet, dass sie oft Dinge falsch machen und „ [Rauschen](gloss:noise) “ in unsere Ergebnisse einbringen. Zu viel Lärm und unsere Ergebnisse werden Unsinn sein!\n",
        "\n",
        "Im Moment sind die Quantencomputer, die wir haben, experimentell. Sie sind durch die Anzahl der Qubits und Fehlerraten begrenzt, sodass die größten Probleme, die sie derzeit lösen können, für herkömmliche Computer immer noch leicht zu bewältigen sind.\n",
        "\n",
        "Irgendwann in der Zukunft wird sich das ändern. Wir werden den „Quantenvorteil“ erreichen, bei dem es tatsächlich wirtschaftlich sinnvoll ist, ein Problem mit einem Quantencomputer gegenüber einem herkömmlichen Computer zu lösen. Woher wissen wir? *Denn wir messen Algorithmen an ihrer Wachstumsrate!* Wir wissen, dass Quantencomputer, solange sie sich stetig weiterentwickeln, irgendwann die klassischen Computer ablösen werden.\n",
        "\n",
        "![Vergleich von (prognostizierten) klassischen vs. Quantenfaktorfähigkeiten im Laufe der Zeit](images/why-qc/q-vs-c.svg)\n",
        "\n",
        "Die Schätzung für die Berücksichtigung einer 617-stelligen RSA-Nummer in weniger als einem Tag ging von etwa 20 Millionen verrauschten Qubits aus. Zum Zeitpunkt des Verfassens dieses Artikels verfügt IBM derzeit über einen 65-Qubit-Quantencomputer und strebt an, bis 2023 ein System mit über 1000 Qubits zu schaffen. Es gibt andere Algorithmen, von denen wir glauben, dass sie uns lange vor diesem Meilenstein einen Quantenvorteil verschaffen werden, aber es ist so scheint immer noch weit weg zu sein.\n",
        "\n",
        "Mit dem folgenden Code können Sie ein einfaches Quantenprogramm erstellen und es an IBM Quantum senden, damit es auf einem echten Quantencomputer ausgeführt wird. IBM Quantum wird dieses Programm 4000 Mal für uns ausführen. Unser Programm ist probabilistisch, und die Ergebnisse sollten in der Hälfte der Zeit `000` und in der restlichen Zeit `111` sein. Wie Sie sehen können, sind dies nicht die einzigen Ergebnisse, wir haben eine geringe Wahrscheinlichkeit, andere Ausgänge aufgrund von Rauschen zu messen."
      ]
    },
    {
      "cell_type": "code",
      "execution_count": null,
      "metadata": {
        "tags": [
          "uses-hardware"
        ]
      },
      "outputs": [

      ],
      "source": [
        "# 1. Create a simple quantum program called a 'quantum circuit'.\n",
        "from qiskit import QuantumCircuit\n",
        "qc = QuantumCircuit(3)\n",
        "qc.h(0)\n",
        "qc.cx(0, [1, 2])\n",
        "qc.measure_all()\n",
        "\n",
        "# 2. Ask IBM Quantum for its least busy device that isn't a simulator.\n",
        "#    If you're running this example locally, you need to load your\n",
        "#    account with your IBM Quantum API token\n",
        "# IBMQ.save_account(token=\"XYZ\")\n",
        "# IBMQ.load_account()\n",
        "from qiskit.providers.ibmq import IBMQ, least_busy\n",
        "provider = IBMQ.get_provider('ibm-q')\n",
        "device = least_busy(\n",
        "            provider.backends(\n",
        "                filters= lambda x: not x.configuration().simulator\n",
        "            )\n",
        "        )\n",
        "print(f'Running on {device.name()}')\n",
        "\n",
        "# 3. Convert the program to a form the device can run.\n",
        "#    This is known as 'transpiling'\n",
        "from qiskit import transpile\n",
        "transpiled_qc = transpile(qc, device)\n",
        "\n",
        "# 4. Send the program off to IBM Quantum to run on a real device\n",
        "#    and monitor its status.\n",
        "from qiskit.tools import job_monitor\n",
        "job = device.run(transpiled_qc)\n",
        "job_monitor(job)\n",
        "\n",
        "# 5. Plot the results as a histogram.\n",
        "from qiskit.visualization import plot_histogram\n",
        "plot_histogram(job.result().get_counts())"
      ]
    },
    {
      "cell_type": "markdown",
      "metadata": {
        "gloss": {
          "noise": {
            "text": "Noise is useless information that's difficult to distinguish from useful information. For example, it's hard to hear someone talking to you if there are lots of other people talking loudly nearby.",
            "title": "Noise"
          },
          "qiskit": {
            "text": "Qiskit is a software development kit for working with quantum computers.",
            "title": "Qiskit"
          },
          "qubits": {
            "text": "A 'qubit' is a 'quantum bit'. We will study these later in this course.",
            "title": "Qubit"
          },
          "transistor": {
            "text": "A transistor is an electronic device. They can be used to switch electric currents on and off, and can be used to build a computer processor.",
            "title": "Transistor"
          }
        }
      },
      "source": [
        "Wir sollten uns daran erinnern, woher herkömmliche Computer kamen. Unten sehen Sie ein Bild des ersten [Transistors](gloss:transistor) , der 1947 hergestellt wurde. Transistoren sind die Bausteine moderner Computerprozessoren.\n",
        "\n",
        "![Vergleich von (prognostizierten) klassischen vs. Quantenfaktorfähigkeiten im Laufe der Zeit](images/why-qc/first-transistor.jpg) Bildnachweis: Bundesangestellter <a href=\"https://clintonwhitehouse4.archives.gov/Initiatives/Millennium/capsule/mayo.html\">Link</a> , <a href=\"https://commons.wikimedia.org/w/index.php?curid=554340\">Public Domain</a> .\n",
        "\n",
        "70 Jahre später können unsere modernen Computerchips Milliarden von Transistoren enthalten.\n",
        "\n",
        "Im Rest dieses Kurses werden wir die Quanteneffekte untersuchen, die es uns ermöglichen, effizientere Algorithmen zu erstellen. Am Ende dieses Kurses werden Sie in der Lage sein, das Softwarepaket [Qiskit](gloss:qiskit) zu verwenden, um einen Quantencomputer zu programmieren, um einen dieser Algorithmen auszuführen."
      ]
    },
    {
      "cell_type": "markdown",
      "metadata": {
      },
      "source": [
        "<!-- ::: q-block.exercise -->\n",
        "\n",
        "### Schnelles Quiz\n",
        "\n",
        "<!-- ::: q-quiz(goal=\"intro-why-qc-1\") -->\n",
        "\n",
        "<!-- ::: .question -->\n",
        "\n",
        "Quantencomputer werden irgendwann...\n",
        "\n",
        "<!-- ::: -->\n",
        "\n",
        "<!-- ::: .option(correct) -->\n",
        "\n",
        "1. ... machen Berechnungen, die für herkömmliche Computer zu schwierig sind.\n",
        "\n",
        "<!-- ::: -->\n",
        "\n",
        "<!-- ::: .option -->\n",
        "\n",
        "1. ...ersetzen herkömmliche Computer.\n",
        "\n",
        "<!-- ::: -->\n",
        "\n",
        "<!-- ::: .option -->\n",
        "\n",
        "1. ...erhöhen die Geschwindigkeit herkömmlicher Computer.\n",
        "\n",
        "<!-- ::: -->\n",
        "\n",
        "<!-- ::: -->\n",
        "\n",
        "<!-- ::: -->"
      ]
    }
  ],
  "metadata": {
    "kernelspec": {
      "display_name": "Python 3",
      "language": "python",
      "name": "python3"
    },
    "language_info": {
      "codemirror_mode": {
        "name": "ipython",
        "version": 3
      },
      "file_extension": ".py",
      "mimetype": "text/x-python",
      "name": "python",
      "nbconvert_exporter": "python",
      "pygments_lexer": "ipython3",
      "version": "3.9"
    }
  },
  "nbformat": 4,
  "nbformat_minor": 4
}
